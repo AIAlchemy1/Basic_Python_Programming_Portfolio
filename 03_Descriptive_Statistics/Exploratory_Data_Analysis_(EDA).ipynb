{
  "cells": [
    {
      "cell_type": "markdown",
      "metadata": {
        "id": "view-in-github",
        "colab_type": "text"
      },
      "source": [
        "<a href=\"https://colab.research.google.com/github/e-abtahi/Python-Programming/blob/main/03_Descriptive_Statistics/Exploratory_Data_Analysis_(EDA).ipynb\" target=\"_parent\"><img src=\"https://colab.research.google.com/assets/colab-badge.svg\" alt=\"Open In Colab\"/></a>"
      ]
    },
    {
      "cell_type": "markdown",
      "metadata": {
        "id": "-42du1IieGhr"
      },
      "source": [
        "### Note:\n",
        "\n",
        "- To see all the visualizations in the notebook, place the image files in the same directory (or folder) in which your notebook is. (Provide correct path to the image files.)\n",
        "- The image files are:\n",
        "     - Boxplot.png\n",
        "     - outlier.PNG\n",
        "     - skeweness.png\n",
        "     - skeweness_and_boxplots.png\n",
        "\n",
        "\n",
        "  "
      ]
    },
    {
      "cell_type": "markdown",
      "metadata": {
        "id": "95WqIFZxX5xU"
      },
      "source": [
        "# <span style=\"font-family: Arial; font-weight:bold;font-size:1.5em;color:#00b3e5;\">Contents:\n",
        "\n",
        "[EDA](#EDA)\n",
        "\n",
        "[DATA](#DATA)\n",
        "\n",
        "[Examples for data types](#Examples-for-data-types)\n",
        "\n",
        "[Variable](#Variable)\n",
        "\n",
        "[Descriptive data measures ](#measures)\n",
        "\n",
        "[Measures of central tendency](#ct)\n",
        "\n",
        "[Measures of dispersion](#dispersion)\n",
        "\n",
        "[Five Number Summary](#fivepoint)\n",
        "\n",
        "[Shape of the data](#shape)\n",
        "\n",
        "[Boxplot](#box)\n",
        "\n",
        "[Co-variance and Co-efficient of correlation](#cov)\n",
        "\n",
        "\n",
        "<a id='the_destination'></a>\n"
      ]
    },
    {
      "cell_type": "markdown",
      "metadata": {
        "id": "fJ44FiAjiwgj"
      },
      "source": [
        "<a id='EDA'></a>\n",
        "\n",
        "## <span style=\"font-family: Arial; font-weight:bold;font-size:1.5em;color:#00b3e5;\">  EDA\n",
        "    \n",
        "<font color=darkblue>Tukey defined data analysis in 1961 as: \"Procedures for analyzing data, techniques for interpreting the results of such procedures, ways of planning the gathering of data to make its analysis easier, more precise or more accurate, and all the machinery and results of (mathematical) statistics which apply to analyzing data\"\n",
        " </font>\n"
      ]
    },
    {
      "cell_type": "markdown",
      "metadata": {
        "id": "DXpN6nZliZzv"
      },
      "source": [
        "## <span style=\"font-family: Arial; font-weight:bold;font-size:1.5em;color:#00b3e5;\">   DATA\n",
        "<a id='DATA'></a>\n",
        "\n",
        "<font color=darkblue>\n",
        "* Apart from the regular understanding of Data, in the context of Machine Learning, Data refers to the data that we use to \"train\", \"test\" or \"validate\" a model.\n",
        "* A very common kind of data we deal with is Structured Data i.e, data in tabular format. It is no different from the regular excel spreadsheet we often encounter. We have rows and columns- rows represent individual observations columns represent attributes/features/variables of the observations.\n",
        "    \n",
        "| Name  | Gender  |  Location |  Education_level | Age | Employement_status  |\n",
        "|---|---|---|---|---|---|\n",
        "| Yogesh  | Male  | Delhi  | PhD  | 40 | employed  |\n",
        "| Anisha  | Female  | Mumbai  | Master's | 25 | employed  |\n",
        "| Tanul  | Female  | Pune  | Master's  | 37 | Unemployed  |\n",
        "    \n",
        "&nbsp;\n",
        "\n",
        "* Besides the regular tabular data, we also encounter Unstructured data - Text, images, audio, video, analog data etc\n",
        "\n",
        "* Despite the kind of data, we always convert them into arrays of numbers"
      ]
    },
    {
      "cell_type": "markdown",
      "metadata": {
        "id": "5k2yToDgiZz2"
      },
      "source": [
        "## <span style=\"font-family: Arial; font-weight:bold;font-size:1.5em;color:#00b3e5;\"> Examples for data types\n",
        "<a id='Examples-for-data-types'></a>\n",
        "\n",
        "<font color=darkblue> Since Python is an object oriented language we have a wide range of specialized datatypes.\n",
        "\n",
        "Some common built-in data types are list, dict, str, int, tuple, set etc\n",
        "\n",
        "Refer: https://docs.python.org/3/library/datatypes.html"
      ]
    },
    {
      "cell_type": "markdown",
      "metadata": {
        "id": "y6LEr2dniZz8"
      },
      "source": [
        "## <span style=\"font-family: Arial; font-weight:bold;font-size:1.5em;color:#00b3e5;\"> Variable\n",
        "<a id='Variable'></a>\n"
      ]
    },
    {
      "cell_type": "markdown",
      "metadata": {
        "id": "SDp25yb5X5xY"
      },
      "source": [
        "## <font color=darkblue> Qualitative Variable\n",
        "\n",
        "\n",
        "<font color=darkblue>\n",
        "* A broad category for any variable that can't be counted (i.e, has no numerical value)\n",
        "* Nominal and ordinal variables fall under this category </font>\n",
        "\n",
        "## <font color=darkblue> Quantitative Variable\n",
        "\n",
        "<font color=darkblue>\n",
        "* A broad category for any variable that can be counted, or has a numerical value associated with it\n",
        "* Examples of variables that fall into this category include discrete and ratio variables\n",
        "    \n",
        "Note:\n",
        "* As we progress in the course, we will refer qualitative variables as 'Categorical variables'\n",
        "* Quantitative variables as 'Continuous variables'\n",
        "* Any attribute whose values cannot be used for arthematic operations, we dub its datatype as a categorical datatype\n",
        "* Any attribute whose values can be used for arthematic operations, we dub its datatype as a continuous datatype\n"
      ]
    },
    {
      "cell_type": "markdown",
      "metadata": {
        "id": "421wuggEiZ0e"
      },
      "source": [
        "## <span style=\"font-family: Arial; font-weight:bold;font-size:1.5em;color:#00b3e5;\"> Descriptive data measures\n",
        "<a id='measures'></a>"
      ]
    },
    {
      "cell_type": "markdown",
      "metadata": {
        "id": "jK8RUpLFiZ0h"
      },
      "source": [
        "###  <span style=\"font-family: Arial; font-weight:bold;font-size:1.5em;color:#00b3e5;\">Measure of Central Tendency\n",
        "<a id='ct'></a>\n"
      ]
    },
    {
      "cell_type": "markdown",
      "metadata": {
        "id": "Y-1nC46wX5xZ"
      },
      "source": [
        "<center> <font color=red>  Mode  </font> <font color=blue>  Median  </font> <font color=green>  Mean  </font> </center>\n",
        "\n",
        "\n",
        "* When we measure things of same kind, fairly large number of such measurements will tend to cluster around the middle value. Such a value is called a measure of Central Tendency or Measures of location or Statistical Average\n",
        "* Measures of central tendency include mean, median and mode"
      ]
    },
    {
      "cell_type": "markdown",
      "metadata": {
        "id": "JiJaq78wX5xa"
      },
      "source": [
        "###  <span style=\"font-family: Arial; font-weight:bold;font-size:1.3em;color:#00b3e5;\"> Mean:\n",
        "<font color=darkblue>\n",
        "The general mathematical average.\n",
        "\n",
        "    \n",
        "$$\\mu  = \\frac{1}{n} \\sum_{i=0}^{n} a_i $$\n",
        "\n",
        "&nbsp;\n",
        "\n",
        "\n",
        "$$ mean = \\frac{Sum\\;of\\;all\\;elements\\;in\\;set}{number\\;of\\;elements\\;in\\;set} $$\n",
        "&nbsp;\n",
        "\n",
        "* Arithmetic mean is very susceptible to extreme values or fluctions in data\n",
        "* Not the right measure to consider when the data contains a lot of extreme values"
      ]
    },
    {
      "cell_type": "markdown",
      "metadata": {
        "id": "uPBBVe9biZ0p"
      },
      "source": [
        "###  <span style=\"font-family: Arial; font-weight:bold;font-size:1.3em;color:#00b3e5;\"> Median:\n",
        "<font color=darkblue>\n",
        "The central value in an ordered set by position.\n",
        "\n",
        "&nbsp;\n",
        "\n",
        "\n",
        "$$ median = \\frac{no.\\;of\\;observations+1}{2}\\;th \\;value\\;in\\;an\\;ordered\\;set$$\n",
        "&nbsp;\n",
        "\n",
        "* Median is such that 50% of the observations are above the median and 50% of the observations are below the median\n",
        "* It has better resistance to outliers compared to mean"
      ]
    },
    {
      "cell_type": "markdown",
      "metadata": {
        "id": "53G-vY14iZ0z"
      },
      "source": [
        "###  <span style=\"font-family: Arial; font-weight:bold;font-size:1.3em;color:#00b3e5;\"> Mode:\n",
        "<font color=darkblue>\n",
        "* Mode is that value which occurs most often. In other words mode has the maximum frequency of occurance.\n",
        "* Mode also is highly resistant to outliers"
      ]
    },
    {
      "cell_type": "markdown",
      "metadata": {
        "id": "mCBlfblUiZ0-"
      },
      "source": [
        "## <span style=\"font-family: Arial; font-weight:bold;font-size:1.5em;color:#00b3e5;\"> Measure of dispersion\n",
        "<a id='dispersion'></a>"
      ]
    },
    {
      "cell_type": "markdown",
      "metadata": {
        "id": "e1X3V-lpX5xc"
      },
      "source": [
        "<font color=darkblue>\n",
        "#### Central tendency describes the central point in a data set whereas dispersion or variability describes the spread of the data.\n",
        "&nbsp;\n",
        "\n",
        "* Measures of dispersion include standard deviation, range, kurtosis and skewness"
      ]
    },
    {
      "cell_type": "markdown",
      "metadata": {
        "id": "w8g7JBK4X5xd"
      },
      "source": [
        "<span style=\"font-family: Arial; font-weight:bold;font-size:1.3em;color:#00b3e5;\"> Variance, Standard Deviation and the relation between the two:\n",
        "\n",
        "<font color=darkblue>\n",
        "\n",
        "* The following is the formula for variance\n",
        "$$ \\sigma^2 = \\frac{\\displaystyle\\sum_{i=1}^{n}(x_i - \\mu)^2} {n} $$\n",
        "\n",
        "&nbsp;\n",
        "\n",
        "* The average of the squared differences from the Mean, is Variance\n",
        "* Standard deviation is a quantity expressing by how much each datapoint differs from the average(mean)\n",
        "* Standard deviation is obtained by calculating the square root of variance\n",
        "* Standard deviation is represented by  ' σ '\n",
        "\n",
        "\n"
      ]
    },
    {
      "cell_type": "markdown",
      "metadata": {
        "id": "XZ0GGQr2X5xe"
      },
      "source": [
        "<span style=\"font-family: Arial; font-weight:bold;font-size:1.3em;color:#00b3e5;\"> Range\n",
        "<font color=darkblue>\n",
        "    \n",
        "The difference between the highest and lowest value of a set\n",
        "\n",
        "&nbsp;\n",
        "\n",
        "<center> Range = Max(X) - Min(X)  \n",
        "\n",
        "&nbsp;  \n",
        "where 'X' is a numeric variable\n"
      ]
    },
    {
      "cell_type": "markdown",
      "metadata": {
        "id": "ElQElUEcX5xe"
      },
      "source": [
        "<span style=\"font-family: Arial; font-weight:bold;font-size:1.3em;color:#00b3e5;\"> Quartiles\n",
        "<font color=darkblue>\n",
        "* Quartiles split the values into four equal parts\n",
        "* First Quartile divides the smallest 25% of the values from the rest that are larger\n",
        "* Second Quartile, which indeed is the median, divides the 50% of the values from the rest that are larger or equal to median\n",
        "* Third Quartile divides the smallest 75% of the values from the rest that are larger.\n",
        "\n",
        "&nbsp;\n",
        "\n",
        "$$ Q1 = \\frac{no.\\;of\\;observations+1}{4}\\;th \\;value\\;in\\;an\\;ordered\\;set$$\n",
        "&nbsp;\n",
        "$$ Q2 = \\frac{no.\\;of\\;observations+1}{2}\\;th \\;value\\;in\\;an\\;ordered\\;set$$\n",
        "&nbsp;\n",
        "$$ Q3 = \\frac{3*(no.\\;of\\;observations+1)}{4}\\;th \\;value\\;in\\;an\\;ordered\\;set$$\n",
        "&nbsp;\n",
        "\n",
        "Note:\n",
        "* Percentiles split a variable into 100 equal parts\n",
        "* First quartile is equivalent to 25th percentile\n",
        "* Second quartile is equivalent to 50th percentile\n",
        "* Third quartile is equivalent to 75th percentile\n",
        "\n"
      ]
    },
    {
      "cell_type": "markdown",
      "metadata": {
        "id": "eeposLNYX5xf"
      },
      "source": [
        "<span style=\"font-family: Arial; font-weight:bold;font-size:1.3em;color:#00b3e5;\"> IQR ( Inter Quartile Range )\n",
        "<font color=darkblue>\n",
        "* It is nothing but Range computed only for the middle 50% of the data\n",
        "<center> IQR = Q3 - Q1\n"
      ]
    },
    {
      "cell_type": "markdown",
      "metadata": {
        "id": "sUngUjGbX5xf"
      },
      "source": [
        "<span style=\"font-family: Arial; font-weight:bold;font-size:1.3em;color:#00b3e5;\"> Coefficient of variation\n",
        "<font color=darkblue>\n",
        "&nbsp;\n",
        "\n",
        "Coefficient of variation is a relative measure to compare distributions with respect to their standard deviations\n",
        "\n",
        "&nbsp;\n",
        "$$ CV = \\frac{\\sigma}{\\bar{x}} * 100 $$\n",
        "\n",
        "\n",
        "* Greater the number, greater the variability in the data irrespective of scale\n"
      ]
    },
    {
      "cell_type": "markdown",
      "metadata": {
        "id": "_p-WNGBbX5xg"
      },
      "source": [
        "<span style=\"font-family: Arial; font-weight:bold;font-size:1.3em;color:#00b3e5;\"> Z score\n",
        "<font color=darkblue>\n",
        "&nbsp;\n",
        "\n",
        "For a given set, the z score of a value is the difference between a value and the mean of the set, divided by the standard deviation of the set\n",
        "\n",
        "&nbsp;\n",
        "\n",
        "$$ z = \\frac{x - \\bar{x}}{\\sigma} $$\n",
        "&nbsp;\n",
        "\n",
        "* A Z score of zero means the value IS the mean of the data\n",
        "* Depending on the sign of the Z score (positive or negative) we can say if the value is above or below the mean\n",
        "* The magnitude of the Z score tells us how far away the value is from the mean in terms of standard deviations"
      ]
    },
    {
      "cell_type": "markdown",
      "metadata": {
        "id": "T4H0FF72iZ1_"
      },
      "source": [
        "<a id='fivepoint'></a>\n",
        "## <span style=\"font-family: Arial; font-weight:bold;font-size:1.5em;color:#00b3e5;\">  Five Number Summary\n",
        "<font color=darkblue>\n",
        "&nbsp;  \n",
        "\n",
        "The five number summary helps describe the center, spread and shape of data. The five summary statistics are as follows,\n",
        "\n",
        "&nbsp;\n",
        "\n",
        "* Minimum\n",
        "* Q1\n",
        "* Q2\n",
        "* Q3\n",
        "* Maximum"
      ]
    },
    {
      "cell_type": "markdown",
      "metadata": {
        "id": "hwgkE2maiZ2B"
      },
      "source": [
        "## <span style=\"font-family: Arial; font-weight:bold;font-size:1.5em;color:#00b3e5;\"> Shape of data\n",
        "<a id='shape'></a>"
      ]
    },
    {
      "cell_type": "markdown",
      "metadata": {
        "id": "zAYNd4XtiZ2C"
      },
      "source": [
        "<span style=\"font-family: Arial; font-weight:bold;font-size:1.3em;color:#00b3e5;\"> Skewness\n"
      ]
    },
    {
      "cell_type": "markdown",
      "metadata": {
        "id": "J_JBGO2cX5xi"
      },
      "source": [
        "<center> <font color=red>  Mode  </font> <font color=blue>  Median  </font> <font color=green>  Mean  </font> </center>\n",
        "<font color=darkblue>\n",
        "\n",
        "&nbsp;\n",
        "\n",
        "Extent to which the data values are not symmetrical around the mean\n"
      ]
    },
    {
      "cell_type": "code",
      "execution_count": 1,
      "metadata": {
        "colab": {
          "base_uri": "https://localhost:8080/",
          "height": 563
        },
        "id": "Scdq0hebds79",
        "outputId": "abaeb62f-557a-49ca-de48-71a2312c7930"
      },
      "outputs": [
        {
          "output_type": "stream",
          "name": "stdout",
          "text": [
            "Drive already mounted at /content/drive; to attempt to forcibly remount, call drive.mount(\"/content/drive\", force_remount=True).\n"
          ]
        },
        {
          "output_type": "execute_result",
          "data": {
            "image/png": "[encoded data removed]",
            "text/plain": [
              "<IPython.core.display.Image object>"
            ]
          },
          "metadata": {},
          "execution_count": 1
        }
      ],
      "source": [
        "# Mounting the Google Drive\n",
        "from google.colab import drive\n",
        "drive.mount('/content/drive')\n",
        "\n",
        "from IPython.display import Image\n",
        "Image('/content/drive/MyDrive/skeweness.png')"
      ]
    },
    {
      "cell_type": "markdown",
      "metadata": {
        "id": "IRYfYi15dr8P"
      },
      "source": [
        "\n",
        "<font color=darkblue>\n",
        "\n",
        "$$skewness = \\frac{\\sum_{i=1}^{n}(x_i - \\bar{x})^3} {(n-1)*\\sigma^3}$$\n",
        "\n",
        "\n",
        "&nbsp;\n",
        "\n",
        "&nbsp;\n",
        "\n",
        "\n",
        "* Mean > Median : Positive or right skewed distribution\n",
        "* Mean = Median: Zero skewness or symmetrical distribution\n",
        "* Mean < Median : Negative or left skewed distribution\n"
      ]
    },
    {
      "cell_type": "markdown",
      "metadata": {
        "id": "PZYEUBdgiZ2I"
      },
      "source": [
        "### <span style=\"font-family: Arial; font-weight:bold;font-size:1.5em;color:#00b3e5;\">Box-Plot\n",
        "    \n",
        "<font color=darkblue>\n",
        "<a id='box'></a>\n",
        "&nbsp;\n"
      ]
    },
    {
      "cell_type": "code",
      "execution_count": 2,
      "metadata": {
        "colab": {
          "base_uri": "https://localhost:8080/",
          "height": 171
        },
        "id": "JgBduY4pcFYQ",
        "outputId": "56eb9e57-c372-47d5-c5c7-6ac3e8db1982"
      },
      "outputs": [
        {
          "output_type": "execute_result",
          "data": {
            "image/png": "[encoded data removed]",
            "text/plain": [
              "<IPython.core.display.Image object>"
            ]
          },
          "metadata": {},
          "execution_count": 2
        }
      ],
      "source": [
        "from IPython.display import Image\n",
        "Image('/content/drive/MyDrive/Boxplot.png')"
      ]
    },
    {
      "cell_type": "markdown",
      "metadata": {
        "id": "7NFlM5FPcBtr"
      },
      "source": [
        "<font color=darkblue>    \n",
        "\n",
        "A visual representation of the five number summary"
      ]
    },
    {
      "cell_type": "markdown",
      "metadata": {
        "id": "p4DsFiEDX5xj"
      },
      "source": [
        ""
      ]
    },
    {
      "cell_type": "markdown",
      "metadata": {
        "id": "ltOFQwjUiZ2L"
      },
      "source": [
        "### <span style=\"font-family: Arial; font-weight:bold;font-size:1.5em;color:#00b3e5;\"> Distribution of shape and Box-Plot"
      ]
    },
    {
      "cell_type": "markdown",
      "metadata": {
        "id": "59AFy5D_X5xk"
      },
      "source": [
        "<font color=darkblue>\n",
        "Determining the skewness of a data from its box plot\n",
        "\n"
      ]
    },
    {
      "cell_type": "code",
      "execution_count": 3,
      "metadata": {
        "colab": {
          "base_uri": "https://localhost:8080/",
          "height": 546
        },
        "id": "WqPXW5LxdV6-",
        "outputId": "0970f576-7e3a-4d69-a2a8-4399e7d1753e"
      },
      "outputs": [
        {
          "output_type": "execute_result",
          "data": {
            "image/png": "[encoded data removed]",
            "text/plain": [
              "<IPython.core.display.Image object>"
            ]
          },
          "metadata": {},
          "execution_count": 3
        }
      ],
      "source": [
        "from IPython.display import Image\n",
        "Image('/content/drive/MyDrive/skeweness_and_boxplots.png')"
      ]
    },
    {
      "cell_type": "markdown",
      "metadata": {
        "id": "TGU6lhBadU3V"
      },
      "source": [
        "    \n",
        "* The side of the bigger segment tells us how the data is skewed\n",
        "* If both segments are equal, then it is a symmetric distribution"
      ]
    },
    {
      "cell_type": "markdown",
      "metadata": {
        "id": "yioHKwbPiZ2P"
      },
      "source": [
        "### <span style=\"font-family: Arial; font-weight:bold;font-size:1.5em;color:#00b3e5;\"> Box-Plot to check the presence of outliers"
      ]
    },
    {
      "cell_type": "markdown",
      "metadata": {
        "id": "Qm3B_QksiZ2P"
      },
      "source": [
        "<font color=darkblue>\n",
        "\n",
        "Detecting the presence of outliers in data"
      ]
    },
    {
      "cell_type": "code",
      "execution_count": 4,
      "metadata": {
        "colab": {
          "base_uri": "https://localhost:8080/",
          "height": 264
        },
        "id": "sqXFETDcbP1I",
        "outputId": "2bdda164-5bd5-4815-da22-d50ba561f0e1"
      },
      "outputs": [
        {
          "output_type": "execute_result",
          "data": {
            "image/png": "[encoded data removed]",
            "text/plain": [
              "<IPython.core.display.Image object>"
            ]
          },
          "metadata": {},
          "execution_count": 4
        }
      ],
      "source": [
        "from IPython.display import Image\n",
        "Image('/content/drive/MyDrive/outlier.png')"
      ]
    },
    {
      "cell_type": "markdown",
      "metadata": {
        "id": "Y7PvKClRbM4N"
      },
      "source": [
        "* The points on the right are the outliers\n",
        "\n",
        "\n",
        "\n",
        "Note:\n",
        "*     Presence of datapoints beyond the whiskers/fences desn't necessarily mean there are outliers\n",
        "*     The rule that box plot follows to decide what should be an outlier is that \"any point greater than Q3 + 1.5IQR or lesser than Q1 - 1.5IQR is an outlier \""
      ]
    },
    {
      "cell_type": "markdown",
      "metadata": {
        "id": "n3DhxhwniZ2R"
      },
      "source": [
        "<a id='cov'></a>\n",
        "### <span style=\"font-family: Arial; font-weight:bold;font-size:1.5em;color:#00b3e5;\">Covariance and Coefficient of correlation"
      ]
    },
    {
      "cell_type": "markdown",
      "metadata": {
        "id": "1glqll8XX5xp"
      },
      "source": [
        "<font color=darkblue>\n",
        "\n",
        "To measure how one variable varies with respect to the variation of another variable, we compute Covariance.\n",
        "\n",
        "&nbsp;\n",
        "\n",
        "\n",
        "$$ \\text{cov(X, Y)} = \\frac{\\displaystyle\\sum(X_i - \\bar{X})*(Y_i - \\bar{Y})} {n} $$\n",
        "&nbsp;\n",
        "\n",
        "\n",
        "* The metric only tells us to what extent two variables change together\n",
        "* The metric cannot be the only evidence to conclude that variation in one variable is causing the variation in the other variable\n",
        "* A positive value indicates that the two variables move in the same direction\n",
        "* A negative value indicates that the two variables move in the opposite direction to each other"
      ]
    },
    {
      "cell_type": "markdown",
      "metadata": {
        "id": "Udq-BcoVX5xp"
      },
      "source": [
        "<font color=darkblue>\n",
        "\n",
        "We can only determine the direction of the relationship between two variables but to determine the strength of the relationship, we compute the Correlation coefficient of the two variables.\n",
        "\n",
        "&nbsp;\n",
        "\n",
        "\n",
        "$$\\rho = \\frac{\\text{cov}(X,Y)}{\\sigma_x \\sigma_y}$$\n",
        "\n",
        "&nbsp;\n",
        "\n",
        "* Unlike covariance, correlation coefficient is independant of scale\n",
        "* The range of values correlation coefficient can take is from -1 to +1\n",
        "* A value closer to -1 or +1 means a strong correlation and a value close to zero means weak correlation\n",
        "\n",
        "Note:\n",
        "Correlation does not imply causation\n"
      ]
    },
    {
      "cell_type": "markdown",
      "metadata": {
        "id": "1Hf3wekKiZ3j"
      },
      "source": [
        "<span style=\"font-family: Arial; font-weight:bold;font-size:1.9em;color:#000090;\"> -------------------------------------- HAPPY LEARNING ----------------------------------------"
      ]
    },
    {
      "cell_type": "markdown",
      "metadata": {
        "id": "mab0TpUViZ3j"
      },
      "source": [
        "----------------------------------------"
      ]
    }
  ],
  "metadata": {
    "colab": {
      "provenance": [],
      "include_colab_link": true
    },
    "kernelspec": {
      "display_name": "Python 3 (ipykernel)",
      "language": "python",
      "name": "python3"
    },
    "language_info": {
      "codemirror_mode": {
        "name": "ipython",
        "version": 3
      },
      "file_extension": ".py",
      "mimetype": "text/x-python",
      "name": "python",
      "nbconvert_exporter": "python",
      "pygments_lexer": "ipython3",
      "version": "3.9.7"
    }
  },
  "nbformat": 4,
  "nbformat_minor": 0
}