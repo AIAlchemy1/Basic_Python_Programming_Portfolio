{
  "cells": [
    {
      "cell_type": "markdown",
      "metadata": {
        "id": "view-in-github",
        "colab_type": "text"
      },
      "source": [
        "<a href=\"https://colab.research.google.com/github/e-abtahi/Python-Programming/blob/main/04_Object_Oriented_Programming/Operating_system_module.ipynb\" target=\"_parent\"><img src=\"https://colab.research.google.com/assets/colab-badge.svg\" alt=\"Open In Colab\"/></a>"
      ]
    },
    {
      "cell_type": "markdown",
      "metadata": {
        "id": "yBxE7O0xTPKR"
      },
      "source": [
        "# Operating system calls\n",
        "\n",
        "It's possible to use python to perform command line calls\n",
        "\n",
        "We can do this with the os module"
      ]
    },
    {
      "cell_type": "code",
      "execution_count": 1,
      "metadata": {
        "id": "OvDY1LkdTPKV"
      },
      "outputs": [],
      "source": [
        "import os"
      ]
    },
    {
      "cell_type": "markdown",
      "metadata": {
        "id": "9q783ANgTPKW"
      },
      "source": [
        "## name of operating system\n",
        "\n",
        "We can get the operating system we're working on\n",
        "\n",
        "1. nt is windows\n",
        "2. posix is all unix based systems (Mac, Linux, ...)"
      ]
    },
    {
      "cell_type": "code",
      "execution_count": 2,
      "metadata": {
        "colab": {
          "base_uri": "https://localhost:8080/"
        },
        "id": "yIoEewmTTPKX",
        "outputId": "efc54b5d-3f7d-4f5a-920a-520d69da4510"
      },
      "outputs": [
        {
          "output_type": "stream",
          "name": "stdout",
          "text": [
            "posix\n"
          ]
        }
      ],
      "source": [
        "print(os.name)\n",
        "\n",
        "my_os = os.name"
      ]
    },
    {
      "cell_type": "markdown",
      "metadata": {
        "id": "IjbJorx-TPKX"
      },
      "source": [
        "## working directory"
      ]
    },
    {
      "cell_type": "code",
      "execution_count": 3,
      "metadata": {
        "colab": {
          "base_uri": "https://localhost:8080/",
          "height": 35
        },
        "id": "GTaFhonRTPKY",
        "outputId": "4147eb60-b792-4942-c1a5-75afa4d60ec4"
      },
      "outputs": [
        {
          "output_type": "execute_result",
          "data": {
            "text/plain": [
              "'/content'"
            ],
            "application/vnd.google.colaboratory.intrinsic+json": {
              "type": "string"
            }
          },
          "metadata": {},
          "execution_count": 3
        }
      ],
      "source": [
        "os.getcwd()"
      ]
    },
    {
      "cell_type": "code",
      "execution_count": 4,
      "metadata": {
        "colab": {
          "base_uri": "https://localhost:8080/"
        },
        "id": "8XQyxz-iTPKY",
        "outputId": "60a59326-4ff7-4ac6-b422-0ea940071ee9"
      },
      "outputs": [
        {
          "output_type": "stream",
          "name": "stdout",
          "text": [
            "/content\n"
          ]
        }
      ],
      "source": [
        "print(os.getcwd())"
      ]
    },
    {
      "cell_type": "markdown",
      "metadata": {
        "id": "MvcytUo9TPKZ"
      },
      "source": [
        "## contents of directory"
      ]
    },
    {
      "cell_type": "code",
      "execution_count": 5,
      "metadata": {
        "colab": {
          "base_uri": "https://localhost:8080/"
        },
        "id": "L0CaVgbrTPKZ",
        "outputId": "4c42db2c-cfb6-418c-da27-fef207dc8767"
      },
      "outputs": [
        {
          "output_type": "execute_result",
          "data": {
            "text/plain": [
              "['.config', 'sample_data']"
            ]
          },
          "metadata": {},
          "execution_count": 5
        }
      ],
      "source": [
        "os.listdir('.')"
      ]
    },
    {
      "cell_type": "code",
      "execution_count": 11,
      "metadata": {
        "colab": {
          "base_uri": "https://localhost:8080/"
        },
        "id": "Kh9fP_3cTPKa",
        "outputId": "bd5dbeb7-a6d0-4584-f625-2bd05ed95026"
      },
      "outputs": [
        {
          "output_type": "stream",
          "name": "stdout",
          "text": [
            "Drive already mounted at /content/drive; to attempt to forcibly remount, call drive.mount(\"/content/drive\", force_remount=True).\n"
          ]
        },
        {
          "output_type": "execute_result",
          "data": {
            "text/plain": [
              "['Python_Variables.ipynb',\n",
              " 'Python_Data_Structures (Dictionaries, Sets, Conditional Statements, and Loops).ipynb',\n",
              " 'Python_Data_Structures (List and Tuple).ipynb',\n",
              " 'Exploratory Data Analysis (EDA).ipynb',\n",
              " 'Debugging.ipynb',\n",
              " 'OOP_in_python.ipynb',\n",
              " 'Operating_system_module (1).ipynb',\n",
              " 'Operating_system_module.ipynb']"
            ]
          },
          "metadata": {},
          "execution_count": 11
        }
      ],
      "source": [
        "from google.colab import drive\n",
        "drive.mount('/content/drive')\n",
        "\n",
        "os.listdir('/content/drive/MyDrive/Colab Notebooks')"
      ]
    },
    {
      "cell_type": "markdown",
      "metadata": {
        "id": "i6k88TyiTPKa"
      },
      "source": [
        "## make and rename directory"
      ]
    },
    {
      "cell_type": "code",
      "execution_count": 12,
      "metadata": {
        "id": "FoHObgcdTPKa"
      },
      "outputs": [],
      "source": [
        "os.mkdir('/content/drive/MyDrive/Colab Notebooks/new_dir')"
      ]
    },
    {
      "cell_type": "code",
      "execution_count": 13,
      "metadata": {
        "id": "yPATO01rTPKb"
      },
      "outputs": [],
      "source": [
        "os.rename('/content/drive/MyDrive/Colab Notebooks/new_dir','/content/drive/MyDrive/Colab Notebooks/new_dir2')"
      ]
    },
    {
      "cell_type": "markdown",
      "metadata": {
        "id": "L1sjzERzTPKb"
      },
      "source": [
        "## create and edit file"
      ]
    },
    {
      "cell_type": "code",
      "execution_count": 18,
      "metadata": {
        "id": "Ru1KQGNOTPKb"
      },
      "outputs": [],
      "source": [
        "file = open('/content/drive/MyDrive/Colab Notebooks/new_dir2/myTXTfile.txt','w')\n",
        "file.write('hello\\n')\n",
        "file.write('world!')\n",
        "file.close()"
      ]
    },
    {
      "cell_type": "code",
      "execution_count": 15,
      "metadata": {
        "id": "hVHKDN3OTPKb"
      },
      "outputs": [],
      "source": []
    }
  ],
  "metadata": {
    "kernelspec": {
      "display_name": "Python 3",
      "language": "python",
      "name": "python3"
    },
    "language_info": {
      "codemirror_mode": {
        "name": "ipython",
        "version": 3
      },
      "file_extension": ".py",
      "mimetype": "text/x-python",
      "name": "python",
      "nbconvert_exporter": "python",
      "pygments_lexer": "ipython3",
      "version": "3.7.3"
    },
    "colab": {
      "provenance": [],
      "include_colab_link": true
    }
  },
  "nbformat": 4,
  "nbformat_minor": 0
}