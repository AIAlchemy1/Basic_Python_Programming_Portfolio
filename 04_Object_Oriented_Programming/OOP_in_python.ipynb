{
  "cells": [
    {
      "cell_type": "markdown",
      "metadata": {
        "id": "view-in-github",
        "colab_type": "text"
      },
      "source": [
        "<a href=\"https://colab.research.google.com/github/e-abtahi/Python-Programming/blob/main/04_Object_Oriented_Programming/OOP_in_python.ipynb\" target=\"_parent\"><img src=\"https://colab.research.google.com/assets/colab-badge.svg\" alt=\"Open In Colab\"/></a>"
      ]
    },
    {
      "cell_type": "markdown",
      "metadata": {
        "id": "tAstJUCE_2Bx"
      },
      "source": [
        "# Object Oriented Programming in Python\n",
        "\n",
        "I won't explain here why OOP is useful, but I will go over the basics of what it is.\n",
        "\n",
        "When we talk about OOP we're talking about about *classes* and *objects*\n",
        "\n",
        "OOP in python is not that different than OOP in any other language.\n",
        "\n",
        "## What is a class?\n",
        "\n",
        "a *class* is a user defined data type, where we give a name to the data type\n",
        "\n",
        "int is the name of a data type, float is the name of a data type, list is the name of a data type\n",
        "\n",
        "Similarly, if I define a class called My_data_type then My_data_type is the name of a data type.\n",
        "\n",
        "This data type can contain many variables inside of it with each variariable possibly being of different data types, and each variable can have it's own name.  At first glance a class seems a lot like a dictionary.  We will soon see how it's different.\n",
        "\n",
        "## Attributes\n",
        "\n",
        "A variable inside a class is called an *attribute.*\n",
        "\n",
        "## Methods\n",
        "\n",
        "How is this different than a list or dictionary?\n",
        "\n",
        "You can also have functions inside of a class.  You call a function that is inside of a class a *method*\n",
        "\n",
        "These functions can perform calculations on the attributes or on data fed to them from outside of the class.\n",
        "\n",
        "In the declaration of a class you can only define methods.  If you want to declare an attribute this must be done inside a method.\n",
        "\n",
        "\n",
        "\n",
        "\n",
        "## Objects\n",
        "\n",
        "An *object* is an instance of a particular class.\n",
        "\n",
        "For example, one existing data type in python is int\n",
        "\n",
        "If I define a variable as\n",
        "first_int = 6\n",
        "\n",
        "Then first_int is an object of the type int\n",
        "\n",
        "I can also define\n",
        "second_int = 532\n",
        "\n",
        "This is another instance of the type int\n",
        "\n",
        "These two instances of the type int have different values assigned to them!\n",
        "\n",
        "Similarly I can define my own type of variable as a class called My_data_type, then I can declare multiple objects of the class My_data_type, each having different names and possibly having different values assigned to their attributes and different execution of the methods.  We have to name the data type (int), but we also have to name each instance of the data type (first_int, second_int).\n",
        "\n",
        "This will all become clear when we do an example.\n",
        "\n",
        "## Initializer\n",
        "\n",
        "If you want to assign some attribute values to your object when you declare it we use an *initializer* in the class definition.  We can also automatically run other methods from inside the initializer at the time of declaration.\n",
        "\n",
        "## self\n",
        "\n",
        "self is an important concept for classes.  self is python's internal reference identifier for classes. It serves 2 main purposes.\n",
        "\n",
        "1) When you add an attribute (variable) in a class you must name it self.attribute_name.  Then when you declare an object of that class you access that attribute from the outside as object_name.attribute_name, or if you want to use it interally in a method you would reference it as self.attribute_name.\n",
        "\n",
        "2) When you add a method (function) to a class, you *must* have self as the first argument of that function. but when you call a function you don't actually input self... this is a little confusing.\n",
        "\n",
        "### Let's look at an example"
      ]
    },
    {
      "cell_type": "code",
      "execution_count": 1,
      "metadata": {
        "colab": {
          "base_uri": "https://localhost:8080/"
        },
        "id": "_uXj5x0j_2Bz",
        "outputId": "8331e13e-8e7f-4a84-f6a4-e589c3e05bd0"
      },
      "outputs": [
        {
          "output_type": "stream",
          "name": "stdout",
          "text": [
            "1.7\n",
            "3.74\n"
          ]
        }
      ],
      "source": [
        "# the name of the data type (class) must always start with a capital letter\n",
        "\n",
        "class My_data_type:  # first letter capitalized\n",
        "    def init_some_vals(self,val2):  # self is first argument of function\n",
        "        self.first_var = 1.7        # attributes named self.attribute_name\n",
        "        self.second_var = val2      # this function doesn't return anything...it just sets some attribute values\n",
        "    def multiply_vals(self):        # another internal method, but this one does return a value\n",
        "        return self.first_var*self.second_var\n",
        "\n",
        "me = My_data_type()    # declare an object of the class My_data_type\n",
        "me.init_some_vals(2.2) # don't give self as an input!!!\n",
        "print(me.first_var)    # access attribute\n",
        "print(me.multiply_vals()) # run a method\n"
      ]
    },
    {
      "cell_type": "code",
      "execution_count": 2,
      "metadata": {
        "colab": {
          "base_uri": "https://localhost:8080/"
        },
        "id": "X8UWZxmk_2B1",
        "outputId": "62dd401f-68af-41cf-87d6-1c0faa5a2ce0"
      },
      "outputs": [
        {
          "output_type": "execute_result",
          "data": {
            "text/plain": [
              "3.74"
            ]
          },
          "metadata": {},
          "execution_count": 2
        }
      ],
      "source": [
        "1.7*2.2"
      ]
    },
    {
      "cell_type": "code",
      "execution_count": null,
      "metadata": {
        "id": "yi8sAp9W_2B2"
      },
      "outputs": [],
      "source": [
        "print(self.first_var)  # self is only used inside the class definition!!!"
      ]
    },
    {
      "cell_type": "code",
      "execution_count": 4,
      "metadata": {
        "colab": {
          "base_uri": "https://localhost:8080/"
        },
        "id": "A-1vwgwQ_2B2",
        "outputId": "5a66e868-747c-409c-886f-4dd80f0e3db0"
      },
      "outputs": [
        {
          "output_type": "stream",
          "name": "stdout",
          "text": [
            "231.3\n"
          ]
        }
      ],
      "source": [
        "# we can also add attributes to an object outside of the class definition\n",
        "\n",
        "me.third_var = 231.3\n",
        "print(me.third_var)\n",
        "\n",
        "# this is generally a bad practice though\n",
        "# we want each object of the same class to have the same attributes (not values of attributes)\n",
        "# so that this is internally consistent\n",
        "# in many languages it isn't possible to add attributes from outside the class definition for this very reason"
      ]
    },
    {
      "cell_type": "code",
      "execution_count": null,
      "metadata": {
        "id": "DRTyRU4u_2B2"
      },
      "outputs": [],
      "source": [
        "you = My_data_type()\n",
        "you.init_some_vals(6.1)\n",
        "print(you.third_var)"
      ]
    },
    {
      "cell_type": "code",
      "execution_count": 6,
      "metadata": {
        "id": "PSK5tZwW_2B2"
      },
      "outputs": [],
      "source": [
        "# if we don't want to have to call the initialization function with can use an initalizer with __init__\n",
        "# everything inside __init__ will automatically be run when an object is declared\n",
        "class Pet:\n",
        "    def __init__(self,animal_type,name,age,weight_lbs,color):  # initializer\n",
        "        self.animal = animal_type    # assign some attribute values from the input arguments of the initializer\n",
        "        self.name = name\n",
        "        self.age = age\n",
        "        self.weight_lbs = weight_lbs\n",
        "        self.color = color\n",
        "        self.weight_kg = self.calc_weight_in_kg()  # automatically run a method...still don't feed self to the call\n",
        "\n",
        "    def calc_weight_in_kg(self):  # remember to give self as an input...even though we don't use it when we call\n",
        "        return 0.453592*self.weight_lbs\n",
        "\n",
        "    def describe_pet(self):\n",
        "        print('This pet is a',self.color, self.animal,)\n",
        "        print('This pet\\'s name is',self.name,'and it is',self.age,'years old')\n",
        "        print('This pet weighs',self.weight_lbs,'pounds, which is',round(self.weight_kg,2),'kilograms')\n",
        "\n"
      ]
    },
    {
      "cell_type": "code",
      "execution_count": 7,
      "metadata": {
        "colab": {
          "base_uri": "https://localhost:8080/"
        },
        "id": "d7sTXWlK_2B2",
        "outputId": "fbd2254c-4a46-416d-93ee-2968ff6cda4f"
      },
      "outputs": [
        {
          "output_type": "stream",
          "name": "stdout",
          "text": [
            "This pet is a orange cat\n",
            "This pet's name is Mittens and it is 3 years old\n",
            "This pet weighs 7 pounds, which is 3.18 kilograms\n",
            "\n",
            "This pet is a brown dog\n",
            "This pet's name is Spot and it is 9 years old\n",
            "This pet weighs 18 pounds, which is 8.16 kilograms\n"
          ]
        }
      ],
      "source": [
        "# now create 2 objects of the class Pet\n",
        "my_cat = Pet('cat','Mittens',3,7,'orange')\n",
        "mydog = Pet('dog','Spot',9,18,'brown')\n",
        "my_cat.describe_pet()\n",
        "print('')  # just so there's some space between the object outputs\n",
        "mydog.describe_pet()"
      ]
    },
    {
      "cell_type": "code",
      "execution_count": 8,
      "metadata": {
        "colab": {
          "base_uri": "https://localhost:8080/"
        },
        "id": "YEJA8Q7R_2B3",
        "outputId": "1c13a943-3287-401a-a2d6-7ce0b6ade5df"
      },
      "outputs": [
        {
          "output_type": "stream",
          "name": "stdout",
          "text": [
            "orange\n",
            "9\n"
          ]
        }
      ],
      "source": [
        "# we can also access the attributes of the class from outside because they were declared using self!\n",
        "print(my_cat.color)\n",
        "print(mydog.age)"
      ]
    },
    {
      "cell_type": "code",
      "execution_count": 9,
      "metadata": {
        "colab": {
          "base_uri": "https://localhost:8080/"
        },
        "id": "SqJUAjck_2B3",
        "outputId": "e63ae69b-e44c-4773-e9e7-b811a1784dd0"
      },
      "outputs": [
        {
          "output_type": "stream",
          "name": "stdout",
          "text": [
            "5\n",
            "3.175144\n"
          ]
        }
      ],
      "source": [
        "# I can even change the value of attributes from outside\n",
        "my_cat.weight_lbs = 5\n",
        "print(my_cat.weight_lbs)\n",
        "print(my_cat.weight_kg)"
      ]
    },
    {
      "cell_type": "code",
      "execution_count": 10,
      "metadata": {
        "colab": {
          "base_uri": "https://localhost:8080/"
        },
        "id": "7iHQYTEj_2B3",
        "outputId": "33baaace-9660-4376-d837-8deed7067c4d"
      },
      "outputs": [
        {
          "output_type": "stream",
          "name": "stdout",
          "text": [
            "2.26796\n",
            "8.164656\n",
            "3.175144\n",
            "2.26796\n"
          ]
        }
      ],
      "source": [
        "# we can also access methods from outside\n",
        "print(my_cat.calc_weight_in_kg())\n",
        "print(mydog.calc_weight_in_kg())\n",
        "print(my_cat.weight_kg)\n",
        "my_cat.weight_kg=my_cat.calc_weight_in_kg()\n",
        "print(my_cat.weight_kg)"
      ]
    },
    {
      "cell_type": "code",
      "execution_count": 11,
      "metadata": {
        "id": "dDjDC1P0_2B4"
      },
      "outputs": [],
      "source": [
        "# notice that these 2 method calls returned different values because they are parts of different objects!"
      ]
    }
  ],
  "metadata": {
    "kernelspec": {
      "display_name": "Python 3",
      "language": "python",
      "name": "python3"
    },
    "language_info": {
      "codemirror_mode": {
        "name": "ipython",
        "version": 3
      },
      "file_extension": ".py",
      "mimetype": "text/x-python",
      "name": "python",
      "nbconvert_exporter": "python",
      "pygments_lexer": "ipython3",
      "version": "3.7.3"
    },
    "colab": {
      "provenance": [],
      "include_colab_link": true
    }
  },
  "nbformat": 4,
  "nbformat_minor": 0
}