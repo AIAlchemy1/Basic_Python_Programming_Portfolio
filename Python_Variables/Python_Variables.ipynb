{
  "cells": [
    {
      "cell_type": "markdown",
      "metadata": {
        "id": "view-in-github",
        "colab_type": "text"
      },
      "source": [
        "<a href=\"https://colab.research.google.com/github/e-abtahi/Python-Programming/blob/main/Python_Variables/Python_Variables.ipynb\" target=\"_parent\"><img src=\"https://colab.research.google.com/assets/colab-badge.svg\" alt=\"Open In Colab\"/></a>"
      ]
    },
    {
      "cell_type": "markdown",
      "metadata": {
        "id": "ftCxC4m1WwN4"
      },
      "source": [
        "<a id=\"variables\"> </a>\n",
        "## Python Variables"
      ]
    },
    {
      "cell_type": "markdown",
      "metadata": {
        "id": "loqrEgAPWwN6"
      },
      "source": [
        "#### Declaring and assigning a value to a variable\n",
        "We use the assignment operator  '='  to assign a value to a variable."
      ]
    },
    {
      "cell_type": "code",
      "execution_count": 1,
      "metadata": {
        "id": "EEiXyGNbWwN7"
      },
      "outputs": [],
      "source": [
        "num = 30"
      ]
    },
    {
      "cell_type": "markdown",
      "metadata": {
        "id": "Rge6hHBdWwN9"
      },
      "source": [
        "The operand to the left of the = operator is the name of the variable and the operand to the right of the = operator is the value stored in the variable. Here, we have created a variabe named 'num' and we have assigned value 30 to 'num' variable."
      ]
    },
    {
      "cell_type": "markdown",
      "metadata": {
        "id": "PKGTWcsRWwN-"
      },
      "source": [
        "#### Multiple assignments\n",
        "Python allows you to assign a single value to several variables simultaneously. For example −"
      ]
    },
    {
      "cell_type": "code",
      "execution_count": 2,
      "metadata": {
        "id": "PRlyM9DOWwN_"
      },
      "outputs": [],
      "source": [
        "#Here, an integer object is created with the value 5, and all three variables are assigned to the same memory location\n",
        "x = y = z = 5"
      ]
    },
    {
      "cell_type": "markdown",
      "metadata": {
        "id": "65HAH67RWwOB"
      },
      "source": [
        "You can also assign multiple objects to multiple variables"
      ]
    },
    {
      "cell_type": "code",
      "execution_count": 3,
      "metadata": {
        "id": "rOUYRr38WwOB"
      },
      "outputs": [],
      "source": [
        "a,b,c = 5,10.1,\"Great Lakes\""
      ]
    },
    {
      "cell_type": "markdown",
      "metadata": {
        "id": "XcpVNMYeF9Qp"
      },
      "source": [
        "#### Re-assigning a variable"
      ]
    },
    {
      "cell_type": "code",
      "execution_count": 4,
      "metadata": {
        "colab": {
          "base_uri": "https://localhost:8080/"
        },
        "id": "i9okOotLF9Qq",
        "outputId": "35f01e5c-fa7a-45a1-9d41-446a9ce81f5e"
      },
      "outputs": [
        {
          "output_type": "execute_result",
          "data": {
            "text/plain": [
              "25"
            ]
          },
          "metadata": {},
          "execution_count": 4
        }
      ],
      "source": [
        "var1 = 25\n",
        "var2 = \"Arthur\"\n",
        "var2 = var1\n",
        "var2"
      ]
    },
    {
      "cell_type": "markdown",
      "metadata": {
        "id": "-itifEJ3WwOD"
      },
      "source": [
        "### Rules and Naming Conventions\n"
      ]
    },
    {
      "cell_type": "markdown",
      "metadata": {
        "id": "5vs6q06hWwOE"
      },
      "source": [
        "\n"
      ]
    },
    {
      "cell_type": "markdown",
      "metadata": {
        "id": "ilx9djl-WwOE"
      },
      "source": [
        "\n",
        "## Data Types\n",
        "\n",
        "A data type is an attribute of data which tells the compiler or interpreter how the programmer intends to use the data. Python supports the following Python data types:\n",
        "                        1. Numbers\n",
        "                        2. Strings\n",
        "                        3. Boolean\n",
        "                        4. Lists\n",
        "                        5. Tuples\n",
        "                        6. Dictionaries\n",
        "                        7. Sets\n",
        "      \n",
        "\n"
      ]
    },
    {
      "cell_type": "markdown",
      "metadata": {
        "id": "IZJAzajfWwOF"
      },
      "source": [
        "<a id=\"num\"> </a>\n",
        "### Python Numbers\n",
        "There are four numeric Python data type:<br>\n",
        "a. int (signed integers)<br>\n",
        "b. float (floating point real values)<br>\n",
        "c. long (long integers, they can also be represented in octal and hexadecimal)<br>\n",
        "d. complex (complex numbers)\n",
        "\n",
        "<table>\n",
        "  <tr>\n",
        "  <th>int</th>\n",
        "  <th>float</th>\n",
        "  <th>long</th>\n",
        "  <th>complex</th>\n",
        "  </tr>\n",
        "  <tr>\n",
        "  <td>10</td>\n",
        "  <td>54.4</td>\n",
        "  <td>012345L</td>\n",
        "  <td>2+5j</td>  \n",
        "  </tr>\n",
        "  <tr>\n",
        "  <td>70</td>\n",
        "  <td>0.01</td>\n",
        "  <td>-987652L</td>\n",
        "  <td>1.18j</td>\n",
        "  </tr>\n",
        "  <tr>\n",
        "  <td>-150</td>\n",
        "  <td>1.626e16</td>\n",
        "  <td>10000000000000000</td>\n",
        "  <td>-10j</td>\n",
        "  </tr>\n",
        "  <tr>\n",
        "  <td>0x69</td>\n",
        "  <td>74.15</td>\n",
        "  <td>-4335685298777L</td>\n",
        "  <td>45j</td>\n",
        "  </tr>\n",
        "  <tr>\n",
        "  <td>-0x260</td>\n",
        "  <td>89.33</td>\n",
        "  <td>0348L\t</td>\n",
        "  <td>3e+26J</td>\n",
        "  </tr>\n",
        "</table>"
      ]
    },
    {
      "cell_type": "markdown",
      "metadata": {
        "id": "U6hFAQM8WwOF"
      },
      "source": [
        "#### int\n",
        "'int' stands for integer. This Python Data Type holds signed integers. We can use the type() function to find which class it belongs to."
      ]
    },
    {
      "cell_type": "code",
      "execution_count": 5,
      "metadata": {
        "colab": {
          "base_uri": "https://localhost:8080/"
        },
        "id": "gD08tb_oWwOG",
        "outputId": "f9430353-d8e1-4978-d6c1-6e0487b58921"
      },
      "outputs": [
        {
          "output_type": "execute_result",
          "data": {
            "text/plain": [
              "int"
            ]
          },
          "metadata": {},
          "execution_count": 5
        }
      ],
      "source": [
        "a = -5\n",
        "type(a)"
      ]
    },
    {
      "cell_type": "code",
      "execution_count": 6,
      "metadata": {
        "colab": {
          "base_uri": "https://localhost:8080/"
        },
        "id": "9TEUZuKzWwOJ",
        "outputId": "552cbd45-0f0b-45b0-d654-eb0b10a86997"
      },
      "outputs": [
        {
          "output_type": "execute_result",
          "data": {
            "text/plain": [
              "int"
            ]
          },
          "metadata": {},
          "execution_count": 6
        }
      ],
      "source": [
        "x = 1000\n",
        "type(a)"
      ]
    },
    {
      "cell_type": "markdown",
      "metadata": {
        "id": "kcwZsEBnWwOL"
      },
      "source": [
        "#### float"
      ]
    },
    {
      "cell_type": "code",
      "execution_count": 7,
      "metadata": {
        "colab": {
          "base_uri": "https://localhost:8080/"
        },
        "id": "gzRxX7LwWwOL",
        "outputId": "e69f4b82-322f-40a5-a4c6-f7e7fc772a59"
      },
      "outputs": [
        {
          "output_type": "execute_result",
          "data": {
            "text/plain": [
              "float"
            ]
          },
          "metadata": {},
          "execution_count": 7
        }
      ],
      "source": [
        "a = 1.1\n",
        "type(a)"
      ]
    },
    {
      "cell_type": "code",
      "execution_count": 8,
      "metadata": {
        "colab": {
          "base_uri": "https://localhost:8080/"
        },
        "id": "kxQhtfexWwON",
        "outputId": "9513280a-90ba-49fb-9b45-2e9d80a7d211"
      },
      "outputs": [
        {
          "output_type": "execute_result",
          "data": {
            "text/plain": [
              "float"
            ]
          },
          "metadata": {},
          "execution_count": 8
        }
      ],
      "source": [
        "x = -3.14\n",
        "type(x)"
      ]
    },
    {
      "cell_type": "code",
      "execution_count": 9,
      "metadata": {
        "colab": {
          "base_uri": "https://localhost:8080/"
        },
        "id": "yvZHGCMZWwOP",
        "outputId": "61e97e64-c2fe-4aae-bc84-500656355221"
      },
      "outputs": [
        {
          "output_type": "execute_result",
          "data": {
            "text/plain": [
              "float"
            ]
          },
          "metadata": {},
          "execution_count": 9
        }
      ],
      "source": [
        "y = 1.626e16\n",
        "type(y)"
      ]
    },
    {
      "cell_type": "markdown",
      "metadata": {
        "id": "FSSMkUsYWwOQ"
      },
      "source": [
        "#### long"
      ]
    },
    {
      "cell_type": "code",
      "execution_count": 10,
      "metadata": {
        "colab": {
          "base_uri": "https://localhost:8080/"
        },
        "id": "D4mAkQ29WwOR",
        "outputId": "43c925b9-c2b9-469c-8e56-e90aaae99ac3"
      },
      "outputs": [
        {
          "output_type": "execute_result",
          "data": {
            "text/plain": [
              "int"
            ]
          },
          "metadata": {},
          "execution_count": 10
        }
      ],
      "source": [
        "x =999999999999999999999999999999999999999999999\n",
        "type(x)"
      ]
    },
    {
      "cell_type": "markdown",
      "metadata": {
        "id": "KUu1KWCuWwOT"
      },
      "source": [
        "This construct does not exist in Python 3.x."
      ]
    },
    {
      "cell_type": "markdown",
      "metadata": {
        "id": "apmbFzZHWwOT"
      },
      "source": [
        "#### complex"
      ]
    },
    {
      "cell_type": "code",
      "execution_count": 11,
      "metadata": {
        "colab": {
          "base_uri": "https://localhost:8080/"
        },
        "id": "gp5-Bm5MWwOU",
        "outputId": "b1400825-cf52-46da-cade-0817bf4c6c6f"
      },
      "outputs": [
        {
          "output_type": "execute_result",
          "data": {
            "text/plain": [
              "complex"
            ]
          },
          "metadata": {},
          "execution_count": 11
        }
      ],
      "source": [
        "x = 3+4j\n",
        "type(x)"
      ]
    },
    {
      "cell_type": "code",
      "execution_count": 12,
      "metadata": {
        "colab": {
          "base_uri": "https://localhost:8080/"
        },
        "id": "tgyMwLLCWwOW",
        "outputId": "56747714-627a-4386-ed57-a08bb37e8e07"
      },
      "outputs": [
        {
          "output_type": "execute_result",
          "data": {
            "text/plain": [
              "complex"
            ]
          },
          "metadata": {},
          "execution_count": 12
        }
      ],
      "source": [
        "y = 3e+4j\n",
        "type(y)"
      ]
    },
    {
      "cell_type": "markdown",
      "metadata": {
        "id": "T41pYrW8WwOX"
      },
      "source": [
        "<a id=\"str\"> </a>\n",
        "### Python Strings"
      ]
    },
    {
      "cell_type": "markdown",
      "metadata": {
        "id": "RSA1gdoeWwOY"
      },
      "source": [
        "A string is a sequence of characters. Python does not have a <em>char</em> data type, unlike C++ or Java. You can delimit a string using single quotes('string') or double-quotes(\"string\")."
      ]
    },
    {
      "cell_type": "code",
      "execution_count": 13,
      "metadata": {
        "colab": {
          "base_uri": "https://localhost:8080/",
          "height": 35
        },
        "id": "XrVRb1yqWwOY",
        "outputId": "508d05e0-7fc2-4ac1-9121-fbdbcabf4b7b"
      },
      "outputs": [
        {
          "output_type": "execute_result",
          "data": {
            "text/plain": [
              "'Introduction to Python'"
            ],
            "application/vnd.google.colaboratory.intrinsic+json": {
              "type": "string"
            }
          },
          "metadata": {},
          "execution_count": 13
        }
      ],
      "source": [
        "string = \"Introduction to Python\"\n",
        "string"
      ]
    },
    {
      "cell_type": "markdown",
      "metadata": {
        "id": "xX5bTc8aWwOa"
      },
      "source": [
        "The plus (+) sign is the string concatenation operator and the asterisk (*) is the repetition operator."
      ]
    },
    {
      "cell_type": "code",
      "execution_count": 14,
      "metadata": {
        "colab": {
          "base_uri": "https://localhost:8080/",
          "height": 35
        },
        "id": "I7T09aV_WwOb",
        "outputId": "a161fd3e-adeb-43a8-b64c-33c7d58e6184"
      },
      "outputs": [
        {
          "output_type": "execute_result",
          "data": {
            "text/plain": [
              "'GreatLearning'"
            ],
            "application/vnd.google.colaboratory.intrinsic+json": {
              "type": "string"
            }
          },
          "metadata": {},
          "execution_count": 14
        }
      ],
      "source": [
        "str1 = \"Great\"\n",
        "str2 = \"Learning\"\n",
        "str3 = str1+str2\n",
        "str3                      # Prints concatenated string"
      ]
    },
    {
      "cell_type": "code",
      "execution_count": 15,
      "metadata": {
        "colab": {
          "base_uri": "https://localhost:8080/",
          "height": 35
        },
        "id": "YgJ_RdB_WwOd",
        "outputId": "7855b388-23e4-45eb-fe39-10f776e1a1a2"
      },
      "outputs": [
        {
          "output_type": "execute_result",
          "data": {
            "text/plain": [
              "'GreatLearningGreatLearningGreatLearning'"
            ],
            "application/vnd.google.colaboratory.intrinsic+json": {
              "type": "string"
            }
          },
          "metadata": {},
          "execution_count": 15
        }
      ],
      "source": [
        "str3*3                    # Prints string three times"
      ]
    },
    {
      "cell_type": "markdown",
      "metadata": {
        "id": "EffJINZpWwOf"
      },
      "source": [
        "You cannot use the minus(-) operator and the division(/) operator on strings."
      ]
    },
    {
      "cell_type": "markdown",
      "metadata": {
        "id": "D3D5pz2TWwOf"
      },
      "source": [
        "Subsets of strings can be taken using the slice operator ([ ]). You can display a character from a string using its index in the string. Remember, indexing starts with 0."
      ]
    },
    {
      "cell_type": "code",
      "execution_count": 16,
      "metadata": {
        "colab": {
          "base_uri": "https://localhost:8080/",
          "height": 35
        },
        "id": "FcOZ-f9SWwOh",
        "outputId": "a07d0cef-51ea-4493-fe0b-b0c70c799fd4"
      },
      "outputs": [
        {
          "output_type": "execute_result",
          "data": {
            "text/plain": [
              "'d'"
            ],
            "application/vnd.google.colaboratory.intrinsic+json": {
              "type": "string"
            }
          },
          "metadata": {},
          "execution_count": 16
        }
      ],
      "source": [
        "string[5]                 # Prints sixth character of the string"
      ]
    },
    {
      "cell_type": "markdown",
      "metadata": {
        "id": "rmacECWIWwOj"
      },
      "source": [
        "You can also display a burst of characters in a string using the slicing operator with indexes starting at 0 in the beginning of the string and working their way from -1 at the end."
      ]
    },
    {
      "cell_type": "code",
      "execution_count": 17,
      "metadata": {
        "colab": {
          "base_uri": "https://localhost:8080/",
          "height": 35
        },
        "id": "JDHvadR_WwOj",
        "outputId": "58093167-c27a-4ec1-c193-6d8ec8f05319"
      },
      "outputs": [
        {
          "output_type": "execute_result",
          "data": {
            "text/plain": [
              "'to Python'"
            ],
            "application/vnd.google.colaboratory.intrinsic+json": {
              "type": "string"
            }
          },
          "metadata": {},
          "execution_count": 17
        }
      ],
      "source": [
        "string[13:22]             # Prints characters starting from 14th to 21st character"
      ]
    },
    {
      "cell_type": "markdown",
      "metadata": {
        "id": "lqGsgw_6WwOl"
      },
      "source": [
        "Strings are <em>immutable</em>. The following line of code will generate an error"
      ]
    },
    {
      "cell_type": "code",
      "execution_count": null,
      "metadata": {
        "id": "SGqCKsZBWwOl"
      },
      "outputs": [],
      "source": [
        "string[0] = 'P'"
      ]
    },
    {
      "cell_type": "markdown",
      "metadata": {
        "id": "pfuknDsgF9Rn"
      },
      "source": [
        "<a id=\"bool\"> </a>\n",
        "### Python Boolean\n",
        "In Python programming language, the Boolean datatype is a primitive datatype having one of two values: **True** or **False**. It is often a result of some conditions"
      ]
    },
    {
      "cell_type": "code",
      "execution_count": 19,
      "metadata": {
        "colab": {
          "base_uri": "https://localhost:8080/"
        },
        "id": "MZWZ-vhsF9Ro",
        "outputId": "6997b5f0-0db0-4b10-e144-b285d530b830"
      },
      "outputs": [
        {
          "output_type": "execute_result",
          "data": {
            "text/plain": [
              "bool"
            ]
          },
          "metadata": {},
          "execution_count": 19
        }
      ],
      "source": [
        "var = True\n",
        "type(var)"
      ]
    },
    {
      "cell_type": "code",
      "execution_count": 20,
      "metadata": {
        "colab": {
          "base_uri": "https://localhost:8080/"
        },
        "id": "-tO6lz15F9Rs",
        "outputId": "595948c3-bad6-4887-a88a-eef8796baa2b"
      },
      "outputs": [
        {
          "output_type": "stream",
          "name": "stdout",
          "text": [
            "True\n"
          ]
        }
      ],
      "source": [
        "print(10 > 9)"
      ]
    },
    {
      "cell_type": "code",
      "execution_count": 21,
      "metadata": {
        "colab": {
          "base_uri": "https://localhost:8080/"
        },
        "id": "uY2vZtqyF9Ru",
        "outputId": "c3318763-0b54-4bb3-af8c-67528394930f"
      },
      "outputs": [
        {
          "output_type": "stream",
          "name": "stdout",
          "text": [
            "False\n"
          ]
        }
      ],
      "source": [
        "print(10 == 9)"
      ]
    },
    {
      "cell_type": "code",
      "execution_count": 22,
      "metadata": {
        "colab": {
          "base_uri": "https://localhost:8080/"
        },
        "id": "jGgdNUGJF9Rw",
        "outputId": "a2dab130-3639-4d85-eefc-09539ac0fdc2"
      },
      "outputs": [
        {
          "output_type": "stream",
          "name": "stdout",
          "text": [
            "False\n"
          ]
        }
      ],
      "source": [
        "print(10 < 9)"
      ]
    },
    {
      "cell_type": "markdown",
      "metadata": {
        "id": "EVRWwplyWwPK"
      },
      "source": [
        "<a id=\"typecon\"> </a>\n",
        "## Type Conversion\n",
        "Since Python is dynamically-typed, you may want to convert a value into another type. Python supports different type conversion functions like int(), float(), str() etc."
      ]
    },
    {
      "cell_type": "markdown",
      "metadata": {
        "id": "boCcUiw1WwPK"
      },
      "source": [
        "#### float()\n",
        "It converts the passed value into a float."
      ]
    },
    {
      "cell_type": "code",
      "execution_count": 23,
      "metadata": {
        "colab": {
          "base_uri": "https://localhost:8080/"
        },
        "id": "rs0NOMBhWwPK",
        "outputId": "8daf9e76-36dc-4967-b8c4-4561cc82b04c"
      },
      "outputs": [
        {
          "output_type": "execute_result",
          "data": {
            "text/plain": [
              "11.0"
            ]
          },
          "metadata": {},
          "execution_count": 23
        }
      ],
      "source": [
        "float(11)"
      ]
    },
    {
      "cell_type": "markdown",
      "metadata": {
        "id": "hz5JQDNDWwPM"
      },
      "source": [
        "You can turn a Boolean into an float."
      ]
    },
    {
      "cell_type": "code",
      "execution_count": 24,
      "metadata": {
        "colab": {
          "base_uri": "https://localhost:8080/"
        },
        "id": "f7ha7y1HWwPM",
        "outputId": "39d657a2-00b5-4269-e1d3-14e5c84807cb"
      },
      "outputs": [
        {
          "output_type": "execute_result",
          "data": {
            "text/plain": [
              "1.0"
            ]
          },
          "metadata": {},
          "execution_count": 24
        }
      ],
      "source": [
        "float (True)"
      ]
    },
    {
      "cell_type": "code",
      "execution_count": 25,
      "metadata": {
        "colab": {
          "base_uri": "https://localhost:8080/"
        },
        "id": "yGg2az2cWwPN",
        "outputId": "abe35a27-0604-4bfd-d1b3-11f587f11f2d"
      },
      "outputs": [
        {
          "output_type": "execute_result",
          "data": {
            "text/plain": [
              "0.0"
            ]
          },
          "metadata": {},
          "execution_count": 25
        }
      ],
      "source": [
        "float(False)"
      ]
    },
    {
      "cell_type": "markdown",
      "metadata": {
        "id": "0-kWsn3OWwPP"
      },
      "source": [
        "You cannot turn a string into an float. It throws an error. However, if the string has only numbers, then you can."
      ]
    },
    {
      "cell_type": "code",
      "execution_count": null,
      "metadata": {
        "id": "VXcZNILHWwPP"
      },
      "outputs": [],
      "source": [
        "float(\"abc\")"
      ]
    },
    {
      "cell_type": "code",
      "execution_count": 30,
      "metadata": {
        "colab": {
          "base_uri": "https://localhost:8080/"
        },
        "id": "RobCesd6WwPQ",
        "outputId": "bbcabe80-6749-474b-e6e7-f9d9bfa90ec0"
      },
      "outputs": [
        {
          "output_type": "execute_result",
          "data": {
            "text/plain": [
              "11.0"
            ]
          },
          "metadata": {},
          "execution_count": 30
        }
      ],
      "source": [
        "float(\"11\")"
      ]
    },
    {
      "cell_type": "code",
      "execution_count": 31,
      "metadata": {
        "colab": {
          "base_uri": "https://localhost:8080/"
        },
        "id": "YAl_VbkJWwPR",
        "outputId": "c963e111-b535-4c1f-ae72-604c6e330fca"
      },
      "outputs": [
        {
          "output_type": "execute_result",
          "data": {
            "text/plain": [
              "0.0224"
            ]
          },
          "metadata": {},
          "execution_count": 31
        }
      ],
      "source": [
        "#You can also use ‘e’ to denote an exponential number\n",
        "\n",
        "float(\"2.24e-2\")           #this number works even without the float() function"
      ]
    },
    {
      "cell_type": "markdown",
      "metadata": {
        "id": "ECm0OUL8WwPS"
      },
      "source": [
        "#### int"
      ]
    },
    {
      "cell_type": "markdown",
      "metadata": {
        "id": "PkU5JhzOWwPT"
      },
      "source": [
        "Conversion from float to int will round-off the value (make it closer to zero)."
      ]
    },
    {
      "cell_type": "code",
      "execution_count": 32,
      "metadata": {
        "colab": {
          "base_uri": "https://localhost:8080/"
        },
        "id": "D4zY6JVOWwPT",
        "outputId": "0b17e606-f56e-40cd-bb64-ba08f9ec88c0"
      },
      "outputs": [
        {
          "output_type": "execute_result",
          "data": {
            "text/plain": [
              "11"
            ]
          },
          "metadata": {},
          "execution_count": 32
        }
      ],
      "source": [
        "int(11.7)"
      ]
    },
    {
      "cell_type": "code",
      "execution_count": 33,
      "metadata": {
        "colab": {
          "base_uri": "https://localhost:8080/"
        },
        "id": "8jyuaJh6WwPU",
        "outputId": "35684191-4577-45fb-ccdc-9d1deacfa380"
      },
      "outputs": [
        {
          "output_type": "execute_result",
          "data": {
            "text/plain": [
              "-11"
            ]
          },
          "metadata": {},
          "execution_count": 33
        }
      ],
      "source": [
        "int(-11.7)"
      ]
    },
    {
      "cell_type": "markdown",
      "metadata": {
        "id": "fhMAZgkhWwPV"
      },
      "source": [
        " You can also turn a Boolean into an int."
      ]
    },
    {
      "cell_type": "code",
      "execution_count": 34,
      "metadata": {
        "colab": {
          "base_uri": "https://localhost:8080/"
        },
        "id": "kMzj0ZoKWwPV",
        "outputId": "336e4b13-f284-485f-f58c-f9312445470d"
      },
      "outputs": [
        {
          "output_type": "execute_result",
          "data": {
            "text/plain": [
              "1"
            ]
          },
          "metadata": {},
          "execution_count": 34
        }
      ],
      "source": [
        "int(True)"
      ]
    },
    {
      "cell_type": "code",
      "execution_count": 35,
      "metadata": {
        "colab": {
          "base_uri": "https://localhost:8080/"
        },
        "id": "kNhtLwoLWwPW",
        "outputId": "9ce3a750-5438-40d1-a581-6e5321da190d"
      },
      "outputs": [
        {
          "output_type": "execute_result",
          "data": {
            "text/plain": [
              "0"
            ]
          },
          "metadata": {},
          "execution_count": 35
        }
      ],
      "source": [
        "int(False)"
      ]
    },
    {
      "cell_type": "markdown",
      "metadata": {
        "id": "fFIzQUxDWwPb"
      },
      "source": [
        "You cannot turn a string into an int. It throws an error. However, if the string has only numbers, then you can."
      ]
    },
    {
      "cell_type": "code",
      "execution_count": null,
      "metadata": {
        "id": "a1_NU2oRWwPb"
      },
      "outputs": [],
      "source": [
        "int(\"GL\")"
      ]
    },
    {
      "cell_type": "code",
      "execution_count": 37,
      "metadata": {
        "colab": {
          "base_uri": "https://localhost:8080/"
        },
        "id": "NxvVDVzDWwPd",
        "outputId": "91739464-ff14-4e97-eea0-07d1eb4a7139"
      },
      "outputs": [
        {
          "output_type": "execute_result",
          "data": {
            "text/plain": [
              "11"
            ]
          },
          "metadata": {},
          "execution_count": 37
        }
      ],
      "source": [
        "int(\"11\")"
      ]
    },
    {
      "cell_type": "markdown",
      "metadata": {
        "id": "AxKlwSvEWwPe"
      },
      "source": [
        "#### str()\n",
        "<em>str()</em> converts the value into a string."
      ]
    },
    {
      "cell_type": "code",
      "execution_count": 38,
      "metadata": {
        "colab": {
          "base_uri": "https://localhost:8080/",
          "height": 35
        },
        "id": "msQLpozMWwPi",
        "outputId": "b7ef25b8-242e-4c4a-e300-91c1cb6c34da"
      },
      "outputs": [
        {
          "output_type": "execute_result",
          "data": {
            "text/plain": [
              "'2.24'"
            ],
            "application/vnd.google.colaboratory.intrinsic+json": {
              "type": "string"
            }
          },
          "metadata": {},
          "execution_count": 38
        }
      ],
      "source": [
        "str(2.24)"
      ]
    },
    {
      "cell_type": "code",
      "execution_count": 39,
      "metadata": {
        "colab": {
          "base_uri": "https://localhost:8080/",
          "height": 35
        },
        "id": "e2YVfksDWwPj",
        "outputId": "84c6a9e2-286c-4cf8-a408-efd163c83343"
      },
      "outputs": [
        {
          "output_type": "execute_result",
          "data": {
            "text/plain": [
              "'True'"
            ],
            "application/vnd.google.colaboratory.intrinsic+json": {
              "type": "string"
            }
          },
          "metadata": {},
          "execution_count": 39
        }
      ],
      "source": [
        "str(True)"
      ]
    },
    {
      "cell_type": "code",
      "execution_count": 40,
      "metadata": {
        "colab": {
          "base_uri": "https://localhost:8080/",
          "height": 35
        },
        "id": "RgXqM5RxWwPk",
        "outputId": "955f6653-eba9-4263-f3f8-bb930c85c8b4"
      },
      "outputs": [
        {
          "output_type": "execute_result",
          "data": {
            "text/plain": [
              "'False'"
            ],
            "application/vnd.google.colaboratory.intrinsic+json": {
              "type": "string"
            }
          },
          "metadata": {},
          "execution_count": 40
        }
      ],
      "source": [
        "str(False)"
      ]
    },
    {
      "cell_type": "code",
      "execution_count": 41,
      "metadata": {
        "colab": {
          "base_uri": "https://localhost:8080/",
          "height": 35
        },
        "id": "owVkbQJDWwPm",
        "outputId": "cf2f40d2-f17a-4468-e222-41c3e4b5a9b6"
      },
      "outputs": [
        {
          "output_type": "execute_result",
          "data": {
            "text/plain": [
              "'10'"
            ],
            "application/vnd.google.colaboratory.intrinsic+json": {
              "type": "string"
            }
          },
          "metadata": {},
          "execution_count": 41
        }
      ],
      "source": [
        "str(10)"
      ]
    },
    {
      "cell_type": "markdown",
      "metadata": {
        "id": "NeztNGtGWwP5"
      },
      "source": [
        "<a id=\"print\"> </a>\n",
        "## Python print()"
      ]
    },
    {
      "cell_type": "markdown",
      "metadata": {
        "id": "qqrDXHxnWwP5"
      },
      "source": [
        "\n",
        "                    Syntax:\n",
        "                         print(*objects, sep=' ', end='\\n', file=sys.stdout, flush=False)\n",
        "                    print() Parameters:\n",
        "                    **objects** - object to be printed. * indicates that there may be more than one object\n",
        "sep - objects are separated by sep. Default value: ' '<br>\n",
        "end - end is printed at last\n",
        "file - must be an object with write(string) method. If omitted it, sys.stdout will be used which prints objects on the screen.\n",
        "flush - If True, the stream is forcibly flushed. Default value: False<br><br>\n",
        "                \n"
      ]
    },
    {
      "cell_type": "code",
      "execution_count": 42,
      "metadata": {
        "colab": {
          "base_uri": "https://localhost:8080/"
        },
        "id": "_V7qmGSkWwP6",
        "outputId": "deffb510-65d4-41ca-ec0f-be11668d3e32"
      },
      "outputs": [
        {
          "output_type": "stream",
          "name": "stdout",
          "text": [
            "Hello World\n"
          ]
        }
      ],
      "source": [
        "print(\"Hello World\")"
      ]
    },
    {
      "cell_type": "code",
      "execution_count": 43,
      "metadata": {
        "colab": {
          "base_uri": "https://localhost:8080/"
        },
        "id": "mNLpxl-4WwP9",
        "outputId": "d9205cdc-b7d7-46b7-dc76-4e96e0399bf2"
      },
      "outputs": [
        {
          "output_type": "stream",
          "name": "stdout",
          "text": [
            "x = 2\n"
          ]
        }
      ],
      "source": [
        "#initialize a variable\n",
        "x = 2\n",
        "print(\"x =\", x)              # Here we pass two objects"
      ]
    },
    {
      "cell_type": "markdown",
      "metadata": {
        "id": "6CUwLRcBWwP-"
      },
      "source": [
        "Only object parameter is passed in the above print() function"
      ]
    },
    {
      "cell_type": "markdown",
      "metadata": {
        "id": "XAcxCb-sWwP-"
      },
      "source": [
        "#### print() with separator and end parameters\n",
        "By default, python's print() function ends with a newline. This function comes with a parameter called 'end.' The default value of this parameter is '\\n,' i.e., the new line character. You can end a print statement with any character or string using this parameter.<br>\n",
        "Sometimes you need to print one blank line in your Python program."
      ]
    },
    {
      "cell_type": "code",
      "execution_count": 44,
      "metadata": {
        "colab": {
          "base_uri": "https://localhost:8080/"
        },
        "id": "4QU2h8bsWwP_",
        "outputId": "5e44178a-1d27-48cf-f6c0-94859480a751"
      },
      "outputs": [
        {
          "output_type": "stream",
          "name": "stdout",
          "text": [
            "x = 2\n",
            "\n",
            "\n",
            "a = 8j"
          ]
        }
      ],
      "source": [
        "x = 2\n",
        "a = 8\n",
        "print(\"x =\", x, end='\\n\\n\\n')\n",
        "print(\"a =\", 8, end = 'j')"
      ]
    },
    {
      "cell_type": "markdown",
      "metadata": {
        "id": "hoZ-xQxJWwQA"
      },
      "source": [
        "Objects will be separated with what the <em>sep</em> parameter is set to"
      ]
    },
    {
      "cell_type": "code",
      "execution_count": 45,
      "metadata": {
        "colab": {
          "base_uri": "https://localhost:8080/"
        },
        "id": "qqCg0AU6WwQA",
        "outputId": "2da10f7d-9620-414f-c377-a760c2dda838"
      },
      "outputs": [
        {
          "output_type": "stream",
          "name": "stdout",
          "text": [
            "x =$$2\n",
            "a =j8\n"
          ]
        }
      ],
      "source": [
        "x = 2\n",
        "a = 8\n",
        "print(\"x =\", x, sep='$$')\n",
        "print(\"a =\", 8, sep = 'j')"
      ]
    },
    {
      "cell_type": "markdown",
      "metadata": {
        "id": "MnsdtyNjWwQB"
      },
      "source": [
        "<a id=\"uinput\"> </a>\n",
        "## User Input\n",
        "\n",
        "\n"
      ]
    },
    {
      "cell_type": "markdown",
      "metadata": {
        "id": "N4He5BZIWwQE"
      },
      "source": [
        "The Python input() function is used to read data from a standard input such as a keyboard and treats the received data as string. Basically, when we enter digit value, input() in python 3 stores it as string value. So to convert string value to integer value, we will use int() function just as shown below."
      ]
    },
    {
      "cell_type": "code",
      "execution_count": 46,
      "metadata": {
        "colab": {
          "base_uri": "https://localhost:8080/"
        },
        "id": "WIai9bzpWwQE",
        "outputId": "de63015c-6ad3-4f95-cbf1-52d1c4181bc5"
      },
      "outputs": [
        {
          "output_type": "stream",
          "name": "stdout",
          "text": [
            "Please enter your age: 40\n",
            "40\n"
          ]
        },
        {
          "output_type": "execute_result",
          "data": {
            "text/plain": [
              "int"
            ]
          },
          "metadata": {},
          "execution_count": 46
        }
      ],
      "source": [
        "age = int(input(\"Please enter your age: \"))\n",
        "print(age)\n",
        "type(age)"
      ]
    },
    {
      "cell_type": "code",
      "execution_count": 47,
      "metadata": {
        "colab": {
          "base_uri": "https://localhost:8080/"
        },
        "id": "DHy3Eo3KWwQF",
        "outputId": "8f680d2b-97ae-49bb-98e4-80751b5aa37e"
      },
      "outputs": [
        {
          "output_type": "stream",
          "name": "stdout",
          "text": [
            "Please enter your name: Abtahi\n",
            "Abtahi\n"
          ]
        },
        {
          "output_type": "execute_result",
          "data": {
            "text/plain": [
              "str"
            ]
          },
          "metadata": {},
          "execution_count": 47
        }
      ],
      "source": [
        "name = input(\"Please enter your name: \")\n",
        "print(name)\n",
        "type(name)"
      ]
    },
    {
      "cell_type": "markdown",
      "metadata": {
        "id": "Wev9Kx6-WwQH"
      },
      "source": [
        "When <em>input()</em> function executes program flow will be stopped until the user has given an input. The message displayed on the output screen to ask a user to enter input value is optional i.e. the prompt, will be printed on the screen is optional.\n",
        "Whatever you enter as input, input function convert it into a string. if you enter an integer value still input() function convert it into a string. You need to explicitly convert it into an integer in your code using typecasting."
      ]
    },
    {
      "cell_type": "markdown",
      "metadata": {
        "id": "TgPxKm5oWwQH"
      },
      "source": [
        "<a id=\"oper\"> </a>\n",
        "## Python Operators\n",
        "\n"
      ]
    },
    {
      "cell_type": "markdown",
      "metadata": {
        "id": "-Ta6RTyDWwQI"
      },
      "source": [
        "<a id=\"arith\"> </a>\n",
        "### Arithmetic Operator\n",
        "Arithmetic operators are used to perform mathematical operations like addition, subtraction, multiplication etc."
      ]
    },
    {
      "cell_type": "code",
      "execution_count": 48,
      "metadata": {
        "colab": {
          "base_uri": "https://localhost:8080/"
        },
        "id": "Q-pEFy-BWwQI",
        "outputId": "f76e0f97-f7d4-4901-cb8d-b2be0086008d"
      },
      "outputs": [
        {
          "output_type": "stream",
          "name": "stdout",
          "text": [
            "a + b = 14\n",
            "a - b = 10\n",
            "a * b = 24\n",
            "a % b = 0\n",
            "a / b = 6.0\n",
            "a // b = 6\n",
            "a ** b = 144\n"
          ]
        }
      ],
      "source": [
        "a = 12\n",
        "b = 2\n",
        "# '+' Operator\n",
        "print('a + b =',a+b)                  # Prints addition of a and b\n",
        "\n",
        "# '-' Operator\n",
        "print('a - b =',a-b)                  # Prints subtraction of  a and b\n",
        "\n",
        "# '*' Operator\n",
        "print('a * b =',a*b)                  # Prints multiplication of  a and b\n",
        "\n",
        "# '%' Operator\n",
        "print('a % b =',a%b)                  # Prints remainder of division between a and b\n",
        "\n",
        "# '/' Operator\n",
        "print('a / b =',a/b)                  # Prints division of  a and b\n",
        "\n",
        "# '//' Operator\n",
        "print('a // b =',a//b)                # Prints the interger value of the division between a and b\n",
        "\n",
        "# '**' Operator\n",
        "print('a ** b =',a**b)                # Prints the result of a to the power b\n"
      ]
    },
    {
      "cell_type": "markdown",
      "metadata": {
        "id": "5E-kgOQyWwQJ"
      },
      "source": [
        "<a id=\"comp\"> </a>\n",
        "### Comparison Operator\n",
        "Comparison Operator carries out the comparison between operands. They tell us whether an operand is greater than the other, lesser, equal, or a combination of those. It either returns <em>True</em> or <em>False</em> according to the condition."
      ]
    },
    {
      "cell_type": "code",
      "execution_count": 49,
      "metadata": {
        "colab": {
          "base_uri": "https://localhost:8080/"
        },
        "id": "ei8_yWjXWwQJ",
        "outputId": "67e69589-e83e-497a-d373-b904a575688f"
      },
      "outputs": [
        {
          "output_type": "stream",
          "name": "stdout",
          "text": [
            "a > b  is False\n",
            "a < b  is True\n",
            "a == b  is False\n",
            "a != b  is True\n",
            "a >= b  is False\n",
            "a <= b  is True\n"
          ]
        }
      ],
      "source": [
        "a = 10\n",
        "b = 20\n",
        "\n",
        "# '>' Operator\n",
        "print('a > b  is',a>b)                 # Prints False since a is smaller than b\n",
        "\n",
        "# '<' Operator\n",
        "print('a < b  is',a<b)                 # Prints True since a is smaller than b\n",
        "\n",
        "# '==' Operator\n",
        "print('a == b  is',a==b)                 # Prints False since a and b are not equal\n",
        "\n",
        "# '!=' Operator\n",
        "print('a != b  is',a!=b)                 # Prints True since a is not equal to b\n",
        "\n",
        "# '>=' Operator\n",
        "print('a >= b  is',a>=b)                 # Prints False since a is not smaller nor equal to b\n",
        "\n",
        "# '<= y' Operator\n",
        "print('a <= b  is',a<=b)                 # Prints True since a is smaller than b"
      ]
    },
    {
      "cell_type": "markdown",
      "metadata": {
        "id": "DHAWZfnRWwQL"
      },
      "source": [
        "<a id=\"assign\"> </a>\n",
        "### Assignment Operator\n",
        "An assignment operator assigns a value to a variable. It may manipulate the value by a factor before assigning it."
      ]
    },
    {
      "cell_type": "code",
      "execution_count": 50,
      "metadata": {
        "colab": {
          "base_uri": "https://localhost:8080/"
        },
        "id": "7WeHVcSIWwQL",
        "outputId": "e2d29aed-3a41-48da-866d-58676781788f"
      },
      "outputs": [
        {
          "output_type": "stream",
          "name": "stdout",
          "text": [
            "x =  5\n",
            "Updated value of x after (x += 5) is 10\n",
            "Updated value of x after (x -=2) is 8\n",
            "Updated value of x after (x *= 2) is 16\n",
            "Updated value of x after (x /= 4) is 4.0\n"
          ]
        }
      ],
      "source": [
        "# '=' Operator\n",
        "x = 5                                 # Assigns the value to the variable on the left\n",
        "print(\"x = \", x)\n",
        "\n",
        "# '+=' Operator\n",
        "x += 5\n",
        "print(\"Updated value of x after (x += 5) is\", x)     # Adds the values on either side and assigns it to the expression on the left. x+=5 is the same as x=x+5.\n",
        "\n",
        "# '-=' Operator\n",
        "x -=2\n",
        "print(\"Updated value of x after (x -=2) is\", x)     # Subtracts 2 from the latest value of x and assigns it to x(which is 10).\n",
        "\n",
        "# '*=' Operator\n",
        "x *= 2\n",
        "print(\"Updated value of x after (x *= 2) is\", x)     # Multiplies the current value of x with 2 and assigns the result to the same variable\n",
        "\n",
        "# '/=' Operator\n",
        "x /= 4\n",
        "print('Updated value of x after (x /= 4) is', x)     # Divides the current value of x with 4 and assigns the result to the same variable\n"
      ]
    },
    {
      "cell_type": "markdown",
      "metadata": {
        "id": "KhOFmuWmWwQM"
      },
      "source": [
        "<em>i+=1 is the same as i=i+1, whereas i=+1 just means i=(+1)</em>"
      ]
    },
    {
      "cell_type": "markdown",
      "metadata": {
        "id": "OeuiSmbLWwQM"
      },
      "source": [
        "<a id=\"logic\"> </a>\n",
        "### Logical Operators\n",
        "Logical operators are like conjunctions that you can use to combine more than one condition. We have three Python logical operator – **<em>and</em>**, **<em>or</em>**, and **<em>not</em>** that come under python operators."
      ]
    },
    {
      "cell_type": "markdown",
      "metadata": {
        "id": "_8T3z6drWwQM"
      },
      "source": [
        "#### 'and' Operator\n",
        "If the conditions on both the sides of the operator are true, then the expression as a whole is true."
      ]
    },
    {
      "cell_type": "code",
      "execution_count": 51,
      "metadata": {
        "colab": {
          "base_uri": "https://localhost:8080/"
        },
        "id": "vvanF5POWwQM",
        "outputId": "0b87b73a-3c59-4117-e742-fe95887dc99c"
      },
      "outputs": [
        {
          "output_type": "stream",
          "name": "stdout",
          "text": [
            "True\n"
          ]
        }
      ],
      "source": [
        "x = 11\n",
        "a = x>10 and x<20\n",
        "print(a)"
      ]
    },
    {
      "cell_type": "markdown",
      "metadata": {
        "id": "moUtA-A7WwQN"
      },
      "source": [
        "Here both the conditions are satisfied. Therefore we have True as the output."
      ]
    },
    {
      "cell_type": "code",
      "execution_count": 52,
      "metadata": {
        "colab": {
          "base_uri": "https://localhost:8080/"
        },
        "id": "vCxHTtWpWwQN",
        "outputId": "f5e1acfc-ded4-4c5b-9353-47cf947f7031"
      },
      "outputs": [
        {
          "output_type": "stream",
          "name": "stdout",
          "text": [
            "False\n"
          ]
        }
      ],
      "source": [
        "x = 11\n",
        "a = x>10 and x==12\n",
        "print(a)"
      ]
    },
    {
      "cell_type": "markdown",
      "metadata": {
        "id": "_JFu5BW1WwQO"
      },
      "source": [
        "Here one of the condition is not satisfied. Therefore we have False as the output."
      ]
    },
    {
      "cell_type": "markdown",
      "metadata": {
        "id": "ZJaxiiqkWwQO"
      },
      "source": [
        "#### 'or' Operator\n",
        "The expression is false only if both the statements around the operator are false. Otherwise, it is true."
      ]
    },
    {
      "cell_type": "code",
      "execution_count": 53,
      "metadata": {
        "colab": {
          "base_uri": "https://localhost:8080/"
        },
        "id": "96UjEwpGWwQO",
        "outputId": "ae1ed95f-e988-4258-e083-41706b82486f"
      },
      "outputs": [
        {
          "output_type": "stream",
          "name": "stdout",
          "text": [
            "True\n"
          ]
        }
      ],
      "source": [
        "x = 11\n",
        "a = x>10 or x==20\n",
        "print(a)"
      ]
    },
    {
      "cell_type": "markdown",
      "metadata": {
        "id": "8veZvQOoWwQP"
      },
      "source": [
        "Here one of the condition is satisfied. Therefore we have True as the output."
      ]
    },
    {
      "cell_type": "code",
      "execution_count": 54,
      "metadata": {
        "colab": {
          "base_uri": "https://localhost:8080/"
        },
        "id": "uVnlov7rWwQP",
        "outputId": "cf08a27c-5363-4cba-a5dd-0da27d14acd0"
      },
      "outputs": [
        {
          "output_type": "stream",
          "name": "stdout",
          "text": [
            "False\n"
          ]
        }
      ],
      "source": [
        "x = 11\n",
        "a = x>12 or x==20\n",
        "print(a)"
      ]
    },
    {
      "cell_type": "markdown",
      "metadata": {
        "id": "WZFPqv9AWwQQ"
      },
      "source": [
        "None of the above condition is True. Therefore we have False as the output"
      ]
    },
    {
      "cell_type": "code",
      "execution_count": 54,
      "metadata": {
        "id": "JCv174TQWwQi"
      },
      "outputs": [],
      "source": []
    }
  ],
  "metadata": {
    "colab": {
      "provenance": [],
      "include_colab_link": true
    },
    "kernelspec": {
      "display_name": "Python 3",
      "language": "python",
      "name": "python3"
    },
    "language_info": {
      "codemirror_mode": {
        "name": "ipython",
        "version": 3
      },
      "file_extension": ".py",
      "mimetype": "text/x-python",
      "name": "python",
      "nbconvert_exporter": "python",
      "pygments_lexer": "ipython3",
      "version": "3.8.8"
    }
  },
  "nbformat": 4,
  "nbformat_minor": 0
}