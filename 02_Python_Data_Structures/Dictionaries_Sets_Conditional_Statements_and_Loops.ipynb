{
  "cells": [
    {
      "cell_type": "markdown",
      "metadata": {
        "id": "view-in-github",
        "colab_type": "text"
      },
      "source": [
        "<a href=\"https://colab.research.google.com/github/e-abtahi/Python-Programming/blob/main/02_Python_Data_Structures/Dictionaries_Sets_Conditional_Statements_and_Loops.ipynb\" target=\"_parent\"><img src=\"https://colab.research.google.com/assets/colab-badge.svg\" alt=\"Open In Colab\"/></a>"
      ]
    },
    {
      "cell_type": "markdown",
      "id": "ready-portable",
      "metadata": {
        "id": "ready-portable"
      },
      "source": [
        "1. **[Introduction to Dictionary](#dictionary)**\n",
        "2. **[Introduction to Sets](#sets)**\n",
        "3. **[Conditional Statement and Loops](#loops)**\n",
        "    - 3.1 - [if statement](#if_statement)\n",
        "    - 3.2 - [if else statement](#if_else)\n",
        "    - 3.3 - [if elif else](#if_elif_else)\n",
        "    - 3.4 - [nested if and if else statement](#nested_if)\n",
        "    - 3.5 - [for loop](#forloop)\n",
        "    - 3.6 - [while loop](#whileloop)\n",
        "    - 3.7 - [break statement](#break_statement)\n",
        "    - 3.8 - [continue statement](#continue_statement)"
      ]
    },
    {
      "cell_type": "markdown",
      "id": "popular-squad",
      "metadata": {
        "id": "popular-squad"
      },
      "source": [
        "<a id=\"dictionary\"> </a>\n",
        "## 1. Introduction to Dictionary\n",
        "\n",
        "                        "
      ]
    },
    {
      "cell_type": "markdown",
      "id": "attached-hamilton",
      "metadata": {
        "collapsed": true,
        "id": "attached-hamilton"
      },
      "source": [
        "**General Syntax of Dictionary:**<br>\n",
        "dictionary_name = {&nbsp;key_1: value_1,<br>\n",
        "&nbsp;&nbsp;&nbsp;&nbsp;&nbsp;&nbsp;&nbsp;&nbsp;&nbsp;&nbsp;&nbsp;&nbsp;&nbsp;&nbsp;&nbsp;&nbsp;&nbsp;&nbsp;&nbsp;&nbsp;&nbsp;&nbsp;&nbsp;&nbsp;&nbsp;&nbsp;&nbsp;&nbsp;&nbsp;&nbsp;&nbsp;&nbsp;                   key_2: value_2,<br>\n",
        "&nbsp;&nbsp;&nbsp;&nbsp;&nbsp;&nbsp;&nbsp;&nbsp;&nbsp;&nbsp;&nbsp;&nbsp;&nbsp;&nbsp;&nbsp;&nbsp;&nbsp;&nbsp;&nbsp;&nbsp;&nbsp;&nbsp;&nbsp;&nbsp;&nbsp;&nbsp;&nbsp;&nbsp;&nbsp;&nbsp;&nbsp;&nbsp;                    key_3: value_3,<br>\n",
        "&nbsp;&nbsp;&nbsp;&nbsp;&nbsp;&nbsp;&nbsp;&nbsp;&nbsp;&nbsp;&nbsp;&nbsp;&nbsp;&nbsp;&nbsp;&nbsp;&nbsp;&nbsp;&nbsp;&nbsp;&nbsp;&nbsp;&nbsp;&nbsp;&nbsp;&nbsp;&nbsp;&nbsp;&nbsp;&nbsp;&nbsp;&nbsp;                    }"
      ]
    },
    {
      "cell_type": "markdown",
      "id": "foreign-hours",
      "metadata": {
        "collapsed": true,
        "id": "foreign-hours"
      },
      "source": [
        "### Create Dictionary\n",
        "Separate keys from values with a colon(:), and a pair from another by a comma(,). Put it all in curly braces"
      ]
    },
    {
      "cell_type": "code",
      "execution_count": 1,
      "id": "thousand-sherman",
      "metadata": {
        "colab": {
          "base_uri": "https://localhost:8080/"
        },
        "id": "thousand-sherman",
        "outputId": "1fa5a37b-adf3-498b-cf10-caca8ef6d807"
      },
      "outputs": [
        {
          "output_type": "stream",
          "name": "stdout",
          "text": [
            "{'Mia': 83847, 'John': 83837, 'Jill': 94766}\n"
          ]
        }
      ],
      "source": [
        "# create dictionary\n",
        "balance = {\n",
        "    \"Mia\" : 83847,\n",
        "    \"John\" : 83837,\n",
        "    \"Jill\" : 94766\n",
        "}\n",
        "print(balance)"
      ]
    },
    {
      "cell_type": "markdown",
      "id": "vocal-shirt",
      "metadata": {
        "id": "vocal-shirt"
      },
      "source": [
        "### Accessing Items\n",
        "You can access the items of a dictionary by referring to its key name, inside square brackets"
      ]
    },
    {
      "cell_type": "code",
      "execution_count": 2,
      "id": "attractive-senator",
      "metadata": {
        "colab": {
          "base_uri": "https://localhost:8080/"
        },
        "id": "attractive-senator",
        "outputId": "2dc4a0cc-9c12-4ab1-c1ad-44b1cae610f4"
      },
      "outputs": [
        {
          "output_type": "execute_result",
          "data": {
            "text/plain": [
              "83847"
            ]
          },
          "metadata": {},
          "execution_count": 2
        }
      ],
      "source": [
        "# Get the value of \"Mia\" key\n",
        "x = balance[\"Mia\"]\n",
        "x"
      ]
    },
    {
      "cell_type": "markdown",
      "id": "domestic-enzyme",
      "metadata": {
        "id": "domestic-enzyme"
      },
      "source": [
        "We can use get method to get the value of \"Mia\" key"
      ]
    },
    {
      "cell_type": "code",
      "execution_count": 3,
      "id": "incomplete-apple",
      "metadata": {
        "colab": {
          "base_uri": "https://localhost:8080/"
        },
        "id": "incomplete-apple",
        "outputId": "36f081cb-54f3-4805-ee64-502f51bfea7c"
      },
      "outputs": [
        {
          "output_type": "execute_result",
          "data": {
            "text/plain": [
              "83847"
            ]
          },
          "metadata": {},
          "execution_count": 3
        }
      ],
      "source": [
        "x = balance.get(\"Mia\")\n",
        "x"
      ]
    },
    {
      "cell_type": "markdown",
      "id": "north-applicant",
      "metadata": {
        "id": "north-applicant"
      },
      "source": [
        "### Change Values\n",
        "You can change the value of a specific element by referring to its key name"
      ]
    },
    {
      "cell_type": "code",
      "execution_count": 4,
      "id": "decimal-blackjack",
      "metadata": {
        "colab": {
          "base_uri": "https://localhost:8080/"
        },
        "id": "decimal-blackjack",
        "outputId": "5731e1b3-dd6a-438c-c799-3cca03f8d612"
      },
      "outputs": [
        {
          "output_type": "execute_result",
          "data": {
            "text/plain": [
              "{2015: 34500, 2016: 34300, 2017: 40000}"
            ]
          },
          "metadata": {},
          "execution_count": 4
        }
      ],
      "source": [
        "# create a dictionary\n",
        "year_sales = {\n",
        "  2015: 34500,\n",
        "  2016: 34300,\n",
        "  2017: 40000\n",
        "}\n",
        "\n",
        "year_sales"
      ]
    },
    {
      "cell_type": "code",
      "execution_count": 5,
      "id": "dangerous-russell",
      "metadata": {
        "colab": {
          "base_uri": "https://localhost:8080/"
        },
        "id": "dangerous-russell",
        "outputId": "ce94a47f-733b-4a17-b3b9-76a6b448ab0f"
      },
      "outputs": [
        {
          "output_type": "execute_result",
          "data": {
            "text/plain": [
              "{2015: 45000, 2016: 34300, 2017: 40000}"
            ]
          },
          "metadata": {},
          "execution_count": 5
        }
      ],
      "source": [
        "# Change the sales figure for 2015\n",
        "year_sales[2015] = 45000\n",
        "\n",
        "year_sales"
      ]
    },
    {
      "cell_type": "markdown",
      "id": "challenging-wages",
      "metadata": {
        "id": "challenging-wages"
      },
      "source": [
        "**Dictionary Length**"
      ]
    },
    {
      "cell_type": "code",
      "execution_count": 6,
      "id": "cordless-classroom",
      "metadata": {
        "colab": {
          "base_uri": "https://localhost:8080/"
        },
        "id": "cordless-classroom",
        "outputId": "84134be7-a2b9-4a38-e557-a014e2c99019"
      },
      "outputs": [
        {
          "output_type": "stream",
          "name": "stdout",
          "text": [
            "3\n"
          ]
        }
      ],
      "source": [
        "# print the length of dictionary\n",
        "print(len(year_sales))"
      ]
    },
    {
      "cell_type": "markdown",
      "id": "advanced-award",
      "metadata": {
        "id": "advanced-award"
      },
      "source": [
        "**Adding Items**<br>\n",
        "Adding an item to the dictionary is done by using a new index key and assigning a value to it"
      ]
    },
    {
      "cell_type": "code",
      "execution_count": 7,
      "id": "rotary-breed",
      "metadata": {
        "colab": {
          "base_uri": "https://localhost:8080/"
        },
        "id": "rotary-breed",
        "outputId": "728e19b4-6cb6-4ef9-ee0d-bf3810692765"
      },
      "outputs": [
        {
          "output_type": "execute_result",
          "data": {
            "text/plain": [
              "{2015: 34500, 2016: 34300, 2017: 40000, '2018': 55000}"
            ]
          },
          "metadata": {},
          "execution_count": 7
        }
      ],
      "source": [
        "# create a dictionary\n",
        "year_sales = {\n",
        "  2015: 34500,\n",
        "  2016: 34300,\n",
        "  2017: 40000\n",
        "}\n",
        "\n",
        "year_sales['2018'] = 55000\n",
        "\n",
        "year_sales"
      ]
    },
    {
      "cell_type": "markdown",
      "id": "postal-battery",
      "metadata": {
        "id": "postal-battery"
      },
      "source": [
        "### Dictionary Method"
      ]
    },
    {
      "cell_type": "markdown",
      "id": "enclosed-antibody",
      "metadata": {
        "id": "enclosed-antibody"
      },
      "source": [
        "**Removing Items**<br>\n",
        "There are several methods to remove items from a dictionary:<br>\n",
        "pop() method<br>\n",
        "popitem() method<br>\n",
        "del keywords<br>\n",
        "clear keyword"
      ]
    },
    {
      "cell_type": "markdown",
      "id": "modular-variation",
      "metadata": {
        "id": "modular-variation"
      },
      "source": [
        "**pop()**<br>\n",
        "The pop() method removes the item with the specified key name"
      ]
    },
    {
      "cell_type": "code",
      "execution_count": 8,
      "id": "metric-roman",
      "metadata": {
        "colab": {
          "base_uri": "https://localhost:8080/"
        },
        "id": "metric-roman",
        "outputId": "fe1ca01e-d955-4237-d8f4-22433e552ebb"
      },
      "outputs": [
        {
          "output_type": "execute_result",
          "data": {
            "text/plain": [
              "{2016: 34300, 2017: 40000}"
            ]
          },
          "metadata": {},
          "execution_count": 8
        }
      ],
      "source": [
        "# create a dictionary\n",
        "year_sales = {\n",
        "  2015: 34500,\n",
        "  2016: 34300,\n",
        "  2017: 40000\n",
        "}\n",
        "\n",
        "# remove key from dictionary\n",
        "year_sales.pop(2015)\n",
        "\n",
        "year_sales"
      ]
    },
    {
      "cell_type": "markdown",
      "id": "convinced-reaction",
      "metadata": {
        "id": "convinced-reaction"
      },
      "source": [
        "**popitem()**<br>\n",
        "The popitem() method removes the last inserted item"
      ]
    },
    {
      "cell_type": "code",
      "execution_count": 9,
      "id": "imperial-welding",
      "metadata": {
        "colab": {
          "base_uri": "https://localhost:8080/"
        },
        "id": "imperial-welding",
        "outputId": "840ea56e-bd1a-4d89-f605-5bcf6dd6ee00"
      },
      "outputs": [
        {
          "output_type": "execute_result",
          "data": {
            "text/plain": [
              "{2015: 34500, 2016: 34300}"
            ]
          },
          "metadata": {},
          "execution_count": 9
        }
      ],
      "source": [
        "# create a dictionary\n",
        "year_sales = {\n",
        "  2015: 34500,\n",
        "  2016: 34300,\n",
        "  2017: 40000\n",
        "}\n",
        "\n",
        "# remove last item from the dictionary\n",
        "year_sales.popitem()\n",
        "\n",
        "year_sales"
      ]
    },
    {
      "cell_type": "markdown",
      "id": "nervous-differential",
      "metadata": {
        "id": "nervous-differential"
      },
      "source": [
        "**del keywords**<br>\n",
        "The del keyword removes the item with the specified key name"
      ]
    },
    {
      "cell_type": "code",
      "execution_count": 10,
      "id": "forward-qatar",
      "metadata": {
        "colab": {
          "base_uri": "https://localhost:8080/"
        },
        "id": "forward-qatar",
        "outputId": "9470d5b0-42e4-441e-bd5a-d06c3322f9c6"
      },
      "outputs": [
        {
          "output_type": "execute_result",
          "data": {
            "text/plain": [
              "{2016: 34300, 2017: 40000}"
            ]
          },
          "metadata": {},
          "execution_count": 10
        }
      ],
      "source": [
        "# create a dictionary\n",
        "year_sales = {\n",
        "  2015: 34500,\n",
        "  2016: 34300,\n",
        "  2017: 40000\n",
        "}\n",
        "\n",
        "# delete item from the dictionary\n",
        "del year_sales[2015]\n",
        "\n",
        "year_sales"
      ]
    },
    {
      "cell_type": "markdown",
      "id": "sound-short",
      "metadata": {
        "id": "sound-short"
      },
      "source": [
        "**clear()**<br>\n",
        "The clear() keyword empties the dictionary"
      ]
    },
    {
      "cell_type": "code",
      "execution_count": 11,
      "id": "lined-drive",
      "metadata": {
        "colab": {
          "base_uri": "https://localhost:8080/"
        },
        "id": "lined-drive",
        "outputId": "ae95c633-fab8-4da7-b299-7b6fb7cc6886"
      },
      "outputs": [
        {
          "output_type": "execute_result",
          "data": {
            "text/plain": [
              "{}"
            ]
          },
          "metadata": {},
          "execution_count": 11
        }
      ],
      "source": [
        "# create a dictionary\n",
        "year_sales = {\n",
        "  2015: 34500,\n",
        "  2016: 34300,\n",
        "  2017: 40000\n",
        "}\n",
        "\n",
        "# clear the dictionary\n",
        "year_sales.clear()\n",
        "\n",
        "year_sales"
      ]
    },
    {
      "cell_type": "markdown",
      "id": "presidential-knock",
      "metadata": {
        "id": "presidential-knock"
      },
      "source": [
        "**Copy()**<br>\n",
        "You cannot copy a dictionary simply by typing dict2 = dict1, because dict2 will only be a reference to dict1, and changes made in dict1 will automatically also be made in dict2<br>\n",
        "You can use copy() method to make copy of dictionary"
      ]
    },
    {
      "cell_type": "code",
      "execution_count": 12,
      "id": "welcome-shooting",
      "metadata": {
        "id": "welcome-shooting"
      },
      "outputs": [],
      "source": [
        "# create a dictionary\n",
        "year_sales1 = {\n",
        "  2015: 34500,\n",
        "  2016: 34300,\n",
        "  2017: 40000\n",
        "}\n",
        "\n",
        "# make a copy of dictionary\n",
        "copy_dict = year_sales.copy()"
      ]
    },
    {
      "cell_type": "markdown",
      "id": "muslim-conversion",
      "metadata": {
        "id": "muslim-conversion"
      },
      "source": [
        "**sorted()**<br>\n",
        "Return a new sorted list of keys in the dictionary"
      ]
    },
    {
      "cell_type": "code",
      "execution_count": 13,
      "id": "stone-economy",
      "metadata": {
        "colab": {
          "base_uri": "https://localhost:8080/"
        },
        "id": "stone-economy",
        "outputId": "81dc0293-cebc-45dc-e087-8f1149a2487a"
      },
      "outputs": [
        {
          "output_type": "execute_result",
          "data": {
            "text/plain": [
              "[1, 3, 5, 7, 9]"
            ]
          },
          "metadata": {},
          "execution_count": 13
        }
      ],
      "source": [
        "Square = {1: 1, 3: 9, 5: 25, 7: 49, 9: 81}\n",
        "sorted(Square)"
      ]
    },
    {
      "cell_type": "markdown",
      "id": "renewable-tours",
      "metadata": {
        "id": "renewable-tours"
      },
      "source": [
        "**update()**<br>\n",
        "We can also add and modify dictionaries by using the dict.update() method"
      ]
    },
    {
      "cell_type": "code",
      "execution_count": 14,
      "id": "divided-contest",
      "metadata": {
        "colab": {
          "base_uri": "https://localhost:8080/"
        },
        "id": "divided-contest",
        "outputId": "fad1ed17-30a9-4b60-8de4-fcd6001527d9"
      },
      "outputs": [
        {
          "output_type": "execute_result",
          "data": {
            "text/plain": [
              "{2015: 34500, 2016: 34300, 2017: 40000, 2018: 30000}"
            ]
          },
          "metadata": {},
          "execution_count": 14
        }
      ],
      "source": [
        "# create a dictionary\n",
        "year_sales = {\n",
        "  2015: 34500,\n",
        "  2016: 34300,\n",
        "  2017: 40000\n",
        "}\n",
        "\n",
        "# update dictionary\n",
        "year_sales.update({2018:30000})\n",
        "\n",
        "year_sales"
      ]
    },
    {
      "cell_type": "markdown",
      "id": "complex-title",
      "metadata": {
        "id": "complex-title"
      },
      "source": [
        "<a id=\"sets\"> </a>\n",
        "## 2. Introduction to Sets\n"
      ]
    },
    {
      "cell_type": "markdown",
      "id": "optional-paintball",
      "metadata": {
        "id": "optional-paintball"
      },
      "source": [
        "### Creating Set\n",
        "In Python sets are written with curly brackets"
      ]
    },
    {
      "cell_type": "code",
      "execution_count": 15,
      "id": "alive-athens",
      "metadata": {
        "colab": {
          "base_uri": "https://localhost:8080/"
        },
        "id": "alive-athens",
        "outputId": "183c4254-1e76-463c-f340-6ba51836fd74"
      },
      "outputs": [
        {
          "output_type": "stream",
          "name": "stdout",
          "text": [
            "{1, 2, 3, 4}\n"
          ]
        },
        {
          "output_type": "execute_result",
          "data": {
            "text/plain": [
              "{1, 2, 3, 4}"
            ]
          },
          "metadata": {},
          "execution_count": 15
        }
      ],
      "source": [
        "# create a set\n",
        "s = {1, 2, 3, 3, 4, 3, 3, 2, 2, 2}\n",
        "print (s)\n",
        "\n",
        "# create a set\n",
        "set([1, 2, 3, 4, 4, 4])"
      ]
    },
    {
      "cell_type": "markdown",
      "id": "living-story",
      "metadata": {
        "id": "living-story"
      },
      "source": [
        "Python has the following methods that you can use on sets:<br>\n",
        "add()<br>\n",
        "update()<br>\n",
        "len()<br>\n",
        "remove()<br>\n",
        "pop()<br>"
      ]
    },
    {
      "cell_type": "markdown",
      "id": "urban-armstrong",
      "metadata": {
        "id": "urban-armstrong"
      },
      "source": [
        "<a id=\"loops\"> </a>\n",
        "## 3. Conditional Statement and Loops"
      ]
    },
    {
      "cell_type": "markdown",
      "id": "hazardous-essex",
      "metadata": {
        "id": "hazardous-essex"
      },
      "source": [
        "<a id=\"if_statement\"> </a>\n",
        "## 3.1 if statement\n"
      ]
    },
    {
      "cell_type": "markdown",
      "id": "precious-framework",
      "metadata": {
        "id": "precious-framework"
      },
      "source": [
        "**syntax:**<br><br>\n",
        "if BOOLEAN EXPRESSION:<br>\n",
        "&nbsp;&nbsp;    STATEMENTS"
      ]
    },
    {
      "cell_type": "markdown",
      "id": "labeled-optics",
      "metadata": {
        "id": "labeled-optics"
      },
      "source": [
        "####  Now, we will see some examples on if statements"
      ]
    },
    {
      "cell_type": "code",
      "execution_count": 16,
      "id": "illegal-highlight",
      "metadata": {
        "colab": {
          "base_uri": "https://localhost:8080/"
        },
        "id": "illegal-highlight",
        "outputId": "41b1b9b0-49c4-491f-e389-a50923a2f976"
      },
      "outputs": [
        {
          "output_type": "stream",
          "name": "stdout",
          "text": [
            "Python Tutorial\n"
          ]
        }
      ],
      "source": [
        "# create a string\n",
        "my_string = 'Python'\n",
        "\n",
        "# create a list\n",
        "my_list = ['Data Science', 'Machine Learning', 'Artificial Intelligence', 'Python']\n",
        "\n",
        "if my_string in my_list:\n",
        "    print(my_string + ' Tutorial')"
      ]
    },
    {
      "cell_type": "markdown",
      "id": "blond-particle",
      "metadata": {
        "id": "blond-particle"
      },
      "source": [
        " Test if an item is a member of a list or not."
      ]
    },
    {
      "cell_type": "code",
      "execution_count": 17,
      "id": "passive-horse",
      "metadata": {
        "colab": {
          "base_uri": "https://localhost:8080/"
        },
        "id": "passive-horse",
        "outputId": "2dcdf061-bb50-4f44-cc56-be87ce3df267"
      },
      "outputs": [
        {
          "output_type": "stream",
          "name": "stdout",
          "text": [
            "right\n"
          ]
        }
      ],
      "source": [
        "languages = ['java', 'python' ,'perl', 'ruby', 'c#']\n",
        "if 'python' in languages:\n",
        "    print('right')"
      ]
    },
    {
      "cell_type": "markdown",
      "id": "armed-arrow",
      "metadata": {
        "id": "armed-arrow"
      },
      "source": [
        "<a id=\"if_else\"> </a>\n",
        "## 3.2 if else statement\n"
      ]
    },
    {
      "cell_type": "markdown",
      "id": "sweet-binding",
      "metadata": {
        "id": "sweet-binding"
      },
      "source": [
        "**Syntax of if...else**<br><br>\n",
        "if BOOLEAN EXPRESSION:<br>\n",
        "&nbsp;&nbsp;    STATEMENTS_1<br>\n",
        "else:<br>\n",
        "&nbsp;&nbsp;    STATEMENTS_2"
      ]
    },
    {
      "cell_type": "markdown",
      "id": "smaller-desktop",
      "metadata": {
        "id": "smaller-desktop"
      },
      "source": [
        "#### Let’s see an example of the implementation of the if…else statement."
      ]
    },
    {
      "cell_type": "code",
      "execution_count": 18,
      "id": "beginning-mentor",
      "metadata": {
        "colab": {
          "base_uri": "https://localhost:8080/"
        },
        "id": "beginning-mentor",
        "outputId": "7f01d639-57c8-4c2e-bc50-b3ddae88ae0e"
      },
      "outputs": [
        {
          "output_type": "stream",
          "name": "stdout",
          "text": [
            "200\n",
            "the value of x different from 500\n"
          ]
        }
      ],
      "source": [
        "# create a integer\n",
        "x = 200\n",
        "print(x)\n",
        "\n",
        "# uses the not operator to reverse the result of the logical expression\n",
        "if not x == 500:\n",
        "    print('the value of x different from 500')\n",
        "else:\n",
        "    print('the value of x is equal to 500')"
      ]
    },
    {
      "cell_type": "code",
      "execution_count": 19,
      "id": "active-dealing",
      "metadata": {
        "colab": {
          "base_uri": "https://localhost:8080/"
        },
        "id": "active-dealing",
        "outputId": "62c25900-0e53-424d-907c-5e5cfb794f37"
      },
      "outputs": [
        {
          "output_type": "stream",
          "name": "stdout",
          "text": [
            "enter your useridabtahi\n",
            "enter your passwordabtahi\n",
            "Please check your userid and password\n"
          ]
        }
      ],
      "source": [
        "string1 = str(input(\"enter your userid\"))\n",
        "string2 = str(input(\"enter your password\"))\n",
        "\n",
        "if (string1 == \"greatlearning\" and string2 == \"simplelearning123\"):\n",
        "    print(\"Succefully logged in!!\")\n",
        "else :\n",
        "    print(\"Please check your userid and password\")"
      ]
    },
    {
      "cell_type": "markdown",
      "id": "broken-transaction",
      "metadata": {
        "id": "broken-transaction"
      },
      "source": [
        "<a id=\"if_elif_else\"> </a>\n",
        "## 3.3 if elif else\n"
      ]
    },
    {
      "cell_type": "markdown",
      "id": "artificial-hardwood",
      "metadata": {
        "id": "artificial-hardwood"
      },
      "source": [
        "**Syntax of if elif else:**<br>\n",
        "if x < y:<br>\n",
        "&nbsp;&nbsp;    STATEMENTS_A<br>\n",
        "elif x > y:<br>\n",
        "&nbsp;&nbsp    STATEMENTS_B<br>\n",
        "else:<br>\n",
        "&nbsp;&nbsp;    STATEMENTS_C"
      ]
    },
    {
      "cell_type": "markdown",
      "id": "female-absolute",
      "metadata": {
        "id": "female-absolute"
      },
      "source": [
        "#### Q. Check whether the given number is greater than 50 or not"
      ]
    },
    {
      "cell_type": "code",
      "execution_count": 20,
      "id": "figured-dynamics",
      "metadata": {
        "colab": {
          "base_uri": "https://localhost:8080/"
        },
        "id": "figured-dynamics",
        "outputId": "2d877aee-3730-46c8-b571-99a382493ef8"
      },
      "outputs": [
        {
          "output_type": "stream",
          "name": "stdout",
          "text": [
            "Number is greater than 50\n"
          ]
        }
      ],
      "source": [
        "num = 100\n",
        "if (num == 0):\n",
        "    print(\"Number is Zero\")\n",
        "elif (num > 5):\n",
        "    print(\"Number is greater than 50\")\n",
        "else:\n",
        "    print(\"Number is smaller than 50\")\n"
      ]
    },
    {
      "cell_type": "markdown",
      "id": "ruled-davis",
      "metadata": {
        "id": "ruled-davis"
      },
      "source": [
        "<a id=\"nested_if\"> </a>\n",
        "## 3.4 nested if and if else statement\n"
      ]
    },
    {
      "cell_type": "code",
      "execution_count": 21,
      "id": "wrong-polls",
      "metadata": {
        "colab": {
          "base_uri": "https://localhost:8080/"
        },
        "id": "wrong-polls",
        "outputId": "801729ce-d80f-4867-b43d-9992e2624f2a"
      },
      "outputs": [
        {
          "output_type": "stream",
          "name": "stdout",
          "text": [
            "Enter a number: 1\n",
            "Positive number\n"
          ]
        }
      ],
      "source": [
        "num = float(input(\"Enter a number: \"))\n",
        "if num >= 0:\n",
        "    if num == 0:\n",
        "        print(\"Zero\")\n",
        "    else:\n",
        "        print(\"Positive number\")\n",
        "else:\n",
        "    print(\"Negative number\")"
      ]
    },
    {
      "cell_type": "markdown",
      "id": "unavailable-encyclopedia",
      "metadata": {
        "id": "unavailable-encyclopedia"
      },
      "source": [
        "<a id=\"forloop\"> </a>\n",
        "## 3.5 for loop\n"
      ]
    },
    {
      "cell_type": "markdown",
      "id": "driven-chess",
      "metadata": {
        "id": "driven-chess"
      },
      "source": [
        "**Syntax of for loop:**<br>\n",
        "for val in sequence:<br>\n",
        "&nbsp;&nbsp;\tBody of for"
      ]
    },
    {
      "cell_type": "markdown",
      "id": "awful-tamil",
      "metadata": {
        "id": "awful-tamil"
      },
      "source": [
        "#### Q. Program to find the sum of all numbers stored in a list"
      ]
    },
    {
      "cell_type": "code",
      "execution_count": 22,
      "id": "lesser-compensation",
      "metadata": {
        "colab": {
          "base_uri": "https://localhost:8080/"
        },
        "id": "lesser-compensation",
        "outputId": "45ae08f6-c523-492d-9f65-aba7bd8e6f5b"
      },
      "outputs": [
        {
          "output_type": "stream",
          "name": "stdout",
          "text": [
            "The sum is 2068\n"
          ]
        }
      ],
      "source": [
        "\n",
        "# List of numbers\n",
        "numbers = [66, 545, 223, 438, 224, 122, 125, 214, 111]\n",
        "\n",
        "# variable to store the sum\n",
        "sum = 0\n",
        "\n",
        "# iterate over the list\n",
        "for val in numbers:\n",
        "    sum = sum+val\n",
        "\n",
        "# Output: The sum is 48\n",
        "print(\"The sum is\", sum)"
      ]
    },
    {
      "cell_type": "markdown",
      "id": "statutory-catalog",
      "metadata": {
        "id": "statutory-catalog"
      },
      "source": [
        "<a id=\"whileloop\"> </a>\n",
        "## 3.6 while loop\n"
      ]
    },
    {
      "cell_type": "markdown",
      "id": "clinical-carter",
      "metadata": {
        "id": "clinical-carter"
      },
      "source": [
        "**Syntax of for loop:**<br>\n",
        "while (expression):<br>\n",
        "&nbsp;&nbsp;     statement_1<br>\n",
        "&nbsp;&nbsp;     statement_2<br>\n",
        "    ...."
      ]
    },
    {
      "cell_type": "markdown",
      "id": "random-rescue",
      "metadata": {
        "id": "random-rescue"
      },
      "source": [
        "#### Q. Calculate the sum of the integers from 0 to 9"
      ]
    },
    {
      "cell_type": "code",
      "execution_count": 23,
      "id": "mighty-cartoon",
      "metadata": {
        "colab": {
          "base_uri": "https://localhost:8080/"
        },
        "id": "mighty-cartoon",
        "outputId": "7b5fe3e4-dc66-450f-f9a8-5f611a097ee6"
      },
      "outputs": [
        {
          "output_type": "stream",
          "name": "stdout",
          "text": [
            "The sum of first 9 integers :  45\n"
          ]
        }
      ],
      "source": [
        "a = 0;\n",
        "b = 0\n",
        "while (a < 10):\n",
        "     b = b + a\n",
        "     a = a + 1\n",
        "else :\n",
        "     print('The sum of first 9 integers : ',b)"
      ]
    },
    {
      "cell_type": "markdown",
      "id": "handmade-salvation",
      "metadata": {
        "id": "handmade-salvation"
      },
      "source": [
        "<a id=\"break_statement\"> </a>\n",
        "## 3.7 break statement\n"
      ]
    },
    {
      "cell_type": "markdown",
      "id": "through-clarity",
      "metadata": {
        "id": "through-clarity"
      },
      "source": [
        "Check whether a numbers entered by the user is negative or not."
      ]
    },
    {
      "cell_type": "code",
      "execution_count": 24,
      "id": "modified-explorer",
      "metadata": {
        "colab": {
          "base_uri": "https://localhost:8080/"
        },
        "id": "modified-explorer",
        "outputId": "d1aeb59f-ca8b-4dbe-9972-893f423409a0"
      },
      "outputs": [
        {
          "output_type": "stream",
          "name": "stdout",
          "text": [
            "1\n",
            "-1\n",
            "Met a negative number -1\n"
          ]
        }
      ],
      "source": [
        "for i in range(5):\n",
        "    a = int(input())\n",
        "    if a < 0:\n",
        "        print('Met a negative number', a)\n",
        "        break\n",
        "else:\n",
        "    print('No negative numbers met')"
      ]
    },
    {
      "cell_type": "markdown",
      "id": "touched-wisconsin",
      "metadata": {
        "id": "touched-wisconsin"
      },
      "source": [
        "### <a id=\"continue_statement\"> </a>\n",
        "## 3.8 continue statement\n"
      ]
    },
    {
      "cell_type": "code",
      "execution_count": 25,
      "id": "private-zambia",
      "metadata": {
        "colab": {
          "base_uri": "https://localhost:8080/"
        },
        "id": "private-zambia",
        "outputId": "9331b15a-7ef7-4000-eadd-3f584c0c20cf"
      },
      "outputs": [
        {
          "output_type": "stream",
          "name": "stdout",
          "text": [
            "1 2 3 4 5 7 8 9 10 "
          ]
        }
      ],
      "source": [
        "# loop from 1 to 10\n",
        "for i in range(1, 11):\n",
        "    if i == 6:\n",
        "        continue\n",
        "    else:\n",
        "        # otherwise print the value of i\n",
        "        print(i, end = \" \")"
      ]
    },
    {
      "cell_type": "markdown",
      "id": "younger-norwegian",
      "metadata": {
        "id": "younger-norwegian"
      },
      "source": [
        "Use the continue statement in a while loop"
      ]
    },
    {
      "cell_type": "code",
      "execution_count": 26,
      "id": "infinite-attribute",
      "metadata": {
        "colab": {
          "base_uri": "https://localhost:8080/"
        },
        "id": "infinite-attribute",
        "outputId": "3ab730e9-5b67-474c-9896-daddbf4fdedc"
      },
      "outputs": [
        {
          "output_type": "stream",
          "name": "stdout",
          "text": [
            "1\n",
            "2\n",
            "4\n",
            "5\n",
            "6\n",
            "7\n",
            "8\n",
            "9\n"
          ]
        }
      ],
      "source": [
        "i = 0\n",
        "while i < 9:\n",
        "    i += 1\n",
        "    if i == 3:\n",
        "        continue\n",
        "    print(i)"
      ]
    }
  ],
  "metadata": {
    "kernelspec": {
      "display_name": "Python 3",
      "language": "python",
      "name": "python3"
    },
    "language_info": {
      "codemirror_mode": {
        "name": "ipython",
        "version": 3
      },
      "file_extension": ".py",
      "mimetype": "text/x-python",
      "name": "python",
      "nbconvert_exporter": "python",
      "pygments_lexer": "ipython3",
      "version": "3.8.5"
    },
    "colab": {
      "provenance": [],
      "include_colab_link": true
    }
  },
  "nbformat": 4,
  "nbformat_minor": 5
}