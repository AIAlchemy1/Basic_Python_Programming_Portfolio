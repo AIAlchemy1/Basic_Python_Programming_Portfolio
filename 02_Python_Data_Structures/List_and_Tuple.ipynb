{
  "cells": [
    {
      "cell_type": "markdown",
      "metadata": {
        "id": "view-in-github",
        "colab_type": "text"
      },
      "source": [
        "<a href=\"https://colab.research.google.com/github/e-abtahi/Python-Programming/blob/main/02_Python_Data_Structures/List_and_Tuple.ipynb\" target=\"_parent\"><img src=\"https://colab.research.google.com/assets/colab-badge.svg\" alt=\"Open In Colab\"/></a>"
      ]
    },
    {
      "cell_type": "markdown",
      "metadata": {
        "collapsed": true,
        "id": "xOrfQsgg6tlt"
      },
      "source": [
        "## Table of Content\n",
        "\n",
        "1. **[Introduction to List](#list)**\n",
        "2. **[Introduction to Tuple](#tuple)**"
      ]
    },
    {
      "cell_type": "markdown",
      "metadata": {
        "id": "h3701hH66tlw"
      },
      "source": [
        "<a id=\"list\"> </a>\n",
        "## 1. Introduction to List\n"
      ]
    },
    {
      "cell_type": "markdown",
      "metadata": {
        "id": "eH2xi1LS6tlw"
      },
      "source": [
        "### Constructing Lists\n",
        "\n",
        "To create a list, use square brackets [ ] and separate items in the list with commas.\n",
        "A list can be empty or contain any number of items with different data types (integers, float, strings, etc.)"
      ]
    },
    {
      "cell_type": "code",
      "execution_count": 1,
      "metadata": {
        "colab": {
          "base_uri": "https://localhost:8080/"
        },
        "id": "GgN3FHWx6tlx",
        "outputId": "370ae270-b381-42a7-a416-7a57034dcd0b"
      },
      "outputs": [
        {
          "output_type": "execute_result",
          "data": {
            "text/plain": [
              "[]"
            ]
          },
          "metadata": {},
          "execution_count": 1
        }
      ],
      "source": [
        "# create a empty list\n",
        "empty_list = []\n",
        "empty_list"
      ]
    },
    {
      "cell_type": "markdown",
      "metadata": {
        "id": "AXAQFJIh6tly"
      },
      "source": [
        "**Note : A list can also hold another list as an item, these are called nested lists**"
      ]
    },
    {
      "cell_type": "code",
      "execution_count": 2,
      "metadata": {
        "colab": {
          "base_uri": "https://localhost:8080/"
        },
        "id": "HNsHask86tly",
        "outputId": "79973a92-8c33-47f3-ca05-bcb7f8452d92"
      },
      "outputs": [
        {
          "output_type": "execute_result",
          "data": {
            "text/plain": [
              "[['Data Science', 'Machine Learning'], [135, 232, 321]]"
            ]
          },
          "metadata": {},
          "execution_count": 2
        }
      ],
      "source": [
        "# nested list\n",
        "my_list = [['Data Science','Machine Learning'],[135,232,321]]\n",
        "my_list"
      ]
    },
    {
      "cell_type": "markdown",
      "metadata": {
        "id": "qceD6cab6tly"
      },
      "source": [
        "### Acessing Elements in a List\n",
        "You can access the list items by referring to the index number"
      ]
    },
    {
      "cell_type": "markdown",
      "metadata": {
        "id": "-dwz7-076tly"
      },
      "source": [
        "**Indexing:**<br>\n",
        "We use the index operator [ ]. Each item in a list has an assigned index value. Note that the index starts from 0 in python and must be an integer"
      ]
    },
    {
      "cell_type": "markdown",
      "metadata": {
        "id": "zxzPJSPc6tly"
      },
      "source": [
        "Print the second item of the list"
      ]
    },
    {
      "cell_type": "code",
      "execution_count": 3,
      "metadata": {
        "colab": {
          "base_uri": "https://localhost:8080/"
        },
        "id": "jdOcxoWG6tlz",
        "outputId": "b448dfca-0f5a-48f8-a701-18a200b5fa14"
      },
      "outputs": [
        {
          "output_type": "stream",
          "name": "stdout",
          "text": [
            "machine learning\n"
          ]
        }
      ],
      "source": [
        "# define a list\n",
        "course = ['data science', 'machine learning', 'python', 'html', 'big data' ]\n",
        "\n",
        "# access the second item of a list at index 1\n",
        "print(course[1])"
      ]
    },
    {
      "cell_type": "markdown",
      "metadata": {
        "id": "qUl4nDRS6tlz"
      },
      "source": [
        "**Negative Indexing**:<br>\n",
        "Negative indexing means beginning from the end, -1 refers to the last item, -2 refers to the second last item"
      ]
    },
    {
      "cell_type": "markdown",
      "metadata": {
        "id": "e9ZHei936tlz"
      },
      "source": [
        "Print the second last item of the list"
      ]
    },
    {
      "cell_type": "code",
      "execution_count": 4,
      "metadata": {
        "colab": {
          "base_uri": "https://localhost:8080/"
        },
        "id": "EBF_KWT56tlz",
        "outputId": "2cadf5bc-9284-4aa4-de9f-7034bd0e5d89"
      },
      "outputs": [
        {
          "output_type": "stream",
          "name": "stdout",
          "text": [
            "html\n"
          ]
        }
      ],
      "source": [
        "# define a list\n",
        "course = ['data science', 'machine learning', 'python', 'html', 'big data' ]\n",
        "\n",
        "# access the second item of a list at index -2\n",
        "print(course[-2])"
      ]
    },
    {
      "cell_type": "markdown",
      "metadata": {
        "id": "ypLNayM06tlz"
      },
      "source": [
        "### Slicing of a List\n",
        "List uses the slicing operator : (colon) to extract part of the sequence"
      ]
    },
    {
      "cell_type": "markdown",
      "metadata": {
        "id": "l8Sa3-2P6tlz"
      },
      "source": [
        "Return first three elements from the list"
      ]
    },
    {
      "cell_type": "code",
      "execution_count": 5,
      "metadata": {
        "colab": {
          "base_uri": "https://localhost:8080/"
        },
        "id": "huEbCpx46tl0",
        "outputId": "fac8fbd6-d590-4583-e6dd-d70476020c77"
      },
      "outputs": [
        {
          "output_type": "execute_result",
          "data": {
            "text/plain": [
              "['data science', 'machine learning', 'python']"
            ]
          },
          "metadata": {},
          "execution_count": 5
        }
      ],
      "source": [
        "# define a list\n",
        "course = ['data science', 'machine learning', 'python', 'html', 'big data' ]\n",
        "\n",
        "# print first three element from the list\n",
        "course[:3]"
      ]
    },
    {
      "cell_type": "markdown",
      "metadata": {
        "id": "t4NAdgW46tl0"
      },
      "source": [
        "Select elements from beginning to end"
      ]
    },
    {
      "cell_type": "code",
      "execution_count": 6,
      "metadata": {
        "colab": {
          "base_uri": "https://localhost:8080/"
        },
        "id": "Z8ELf0hE6tl0",
        "outputId": "02211597-389a-40db-9d85-e585b36ef5c9"
      },
      "outputs": [
        {
          "output_type": "execute_result",
          "data": {
            "text/plain": [
              "['data science', 'machine learning', 'python', 'html', 'big data']"
            ]
          },
          "metadata": {},
          "execution_count": 6
        }
      ],
      "source": [
        "# define a list\n",
        "course = ['data science', 'machine learning', 'python', 'html', 'big data' ]\n",
        "\n",
        "# print the all elements\n",
        "course[:]"
      ]
    },
    {
      "cell_type": "markdown",
      "metadata": {
        "id": "gDhcmjJl6tl0"
      },
      "source": [
        "If all three start , stop, and step are provided, it generates portion of sequence after index start till stop with increment of index step"
      ]
    },
    {
      "cell_type": "code",
      "execution_count": 7,
      "metadata": {
        "colab": {
          "base_uri": "https://localhost:8080/"
        },
        "id": "XW_kcBie6tl0",
        "outputId": "1dba378d-c871-46d8-a019-3263cfadcaff"
      },
      "outputs": [
        {
          "output_type": "stream",
          "name": "stdout",
          "text": [
            "[3, 5, 7]\n"
          ]
        }
      ],
      "source": [
        "a = [1,2,3,4,5,6,7,8,9,10]\n",
        "print(a[2:7:2])"
      ]
    },
    {
      "cell_type": "markdown",
      "metadata": {
        "id": "fDGffU9m6tl0"
      },
      "source": [
        "### Change Item Value\n",
        "Refer the index number to change the value of a specific item"
      ]
    },
    {
      "cell_type": "code",
      "execution_count": 8,
      "metadata": {
        "colab": {
          "base_uri": "https://localhost:8080/"
        },
        "id": "ZYe2mK356tl1",
        "outputId": "be3f2a67-ce78-41dc-f107-9553b5733005"
      },
      "outputs": [
        {
          "output_type": "execute_result",
          "data": {
            "text/plain": [
              "['data science', 'machine learning', 'python', 'statistics', 'big data']"
            ]
          },
          "metadata": {},
          "execution_count": 8
        }
      ],
      "source": [
        "# define a list\n",
        "course = ['data science', 'machine learning', 'python', 'html', 'big data' ]\n",
        "\n",
        "# change the third item\n",
        "course[3] = 'statistics'\n",
        "\n",
        "course"
      ]
    },
    {
      "cell_type": "markdown",
      "metadata": {
        "id": "dKiEDUpJ6tl1"
      },
      "source": [
        "### List Methods\n",
        "Python has a set of built-in methods that you can use on lists and arrays"
      ]
    },
    {
      "cell_type": "markdown",
      "metadata": {
        "id": "4kmUPfWZ6tl1"
      },
      "source": [
        "Python has built-in methods that you can use on list:<br>\n",
        "append()<br>\n",
        "insert()<br>\n",
        "extend()<br>\n",
        "del <br>\n",
        "remove()<br>\n",
        "pop()<br>\n",
        "reverse()<br>"
      ]
    },
    {
      "cell_type": "markdown",
      "metadata": {
        "id": "VTsPeUyY6tl1"
      },
      "source": [
        "**list.append(item)**<br>\n",
        "The method list.append(item) will add the element at the end of a list"
      ]
    },
    {
      "cell_type": "code",
      "execution_count": 9,
      "metadata": {
        "colab": {
          "base_uri": "https://localhost:8080/"
        },
        "id": "AI1wI9fi6tl1",
        "outputId": "84ab2721-635c-4f45-f04a-9b623d25fb08"
      },
      "outputs": [
        {
          "output_type": "execute_result",
          "data": {
            "text/plain": [
              "['data science',\n",
              " 'machine learning',\n",
              " 'python',\n",
              " 'html',\n",
              " 'big data',\n",
              " ['statistics']]"
            ]
          },
          "metadata": {},
          "execution_count": 9
        }
      ],
      "source": [
        "# define a list\n",
        "course1 = ['data science', 'machine learning', 'python', 'html', 'big data' ]\n",
        "\n",
        "course2 = ['statistics']\n",
        "\n",
        "# add element to the list\n",
        "course1.append(course2)\n",
        "course1"
      ]
    },
    {
      "cell_type": "markdown",
      "metadata": {
        "id": "p566XvtP6tl1"
      },
      "source": [
        "**list.insert(i, item)**<br>\n",
        "This method will insert an element at the ith index in a list"
      ]
    },
    {
      "cell_type": "code",
      "execution_count": 10,
      "metadata": {
        "colab": {
          "base_uri": "https://localhost:8080/"
        },
        "id": "dZTK6zq66tl1",
        "outputId": "0b042f28-11ea-4752-fda1-91d126670978"
      },
      "outputs": [
        {
          "output_type": "execute_result",
          "data": {
            "text/plain": [
              "['data science',\n",
              " 'machine learning',\n",
              " 'statistics',\n",
              " 'python',\n",
              " 'html',\n",
              " 'big data']"
            ]
          },
          "metadata": {},
          "execution_count": 10
        }
      ],
      "source": [
        "# define a list\n",
        "course = ['data science', 'machine learning', 'python', 'html', 'big data' ]\n",
        "\n",
        "# insert element at 2nd index in a list\n",
        "course.insert(2, 'statistics')\n",
        "course"
      ]
    },
    {
      "cell_type": "markdown",
      "metadata": {
        "id": "3pm8bkNe6tl2"
      },
      "source": [
        "**list.extend(items)**<br>\n",
        "The extend method concatenates lists"
      ]
    },
    {
      "cell_type": "code",
      "execution_count": 11,
      "metadata": {
        "colab": {
          "base_uri": "https://localhost:8080/"
        },
        "id": "gxQWIVmb6tl2",
        "outputId": "799bb7dd-bc86-4a6d-e711-b850e7304d1f"
      },
      "outputs": [
        {
          "output_type": "execute_result",
          "data": {
            "text/plain": [
              "['data science',\n",
              " 'machine learning',\n",
              " 'python',\n",
              " 'html',\n",
              " 'big data',\n",
              " 'artificial intelligence']"
            ]
          },
          "metadata": {},
          "execution_count": 11
        }
      ],
      "source": [
        "# define a first list\n",
        "course1 = ['data science', 'machine learning', 'python', 'html', 'big data']\n",
        "\n",
        "# define a second list\n",
        "course2 = ['artificial intelligence']\n",
        "\n",
        "# concatenate the list\n",
        "course1.extend(course2)\n",
        "\n",
        "course1"
      ]
    },
    {
      "cell_type": "markdown",
      "metadata": {
        "id": "pCPnQodf6tl2"
      },
      "source": [
        "**Deleting List Elements**<br>\n",
        "Use the del keywords to delete an item at specific index"
      ]
    },
    {
      "cell_type": "code",
      "execution_count": 12,
      "metadata": {
        "colab": {
          "base_uri": "https://localhost:8080/"
        },
        "id": "1alHDZlc6tl2",
        "outputId": "f5c6da0b-8782-48c7-88a3-a278a262f92e"
      },
      "outputs": [
        {
          "output_type": "execute_result",
          "data": {
            "text/plain": [
              "['data science', 'machine learning', 'html', 'big data']"
            ]
          },
          "metadata": {},
          "execution_count": 12
        }
      ],
      "source": [
        "# define a first list\n",
        "course = ['data science', 'machine learning', 'python', 'html', 'big data' ]\n",
        "\n",
        "# delete the third element from the list\n",
        "del course[2]\n",
        "\n",
        "# print the output\n",
        "course"
      ]
    },
    {
      "cell_type": "markdown",
      "metadata": {
        "id": "k1MvmnKq6tl2"
      },
      "source": [
        "**list.remove(item)**<br>\n",
        "It will search and remove only the first occurrence of an item"
      ]
    },
    {
      "cell_type": "code",
      "execution_count": 13,
      "metadata": {
        "colab": {
          "base_uri": "https://localhost:8080/"
        },
        "id": "z9oHAq486tl2",
        "outputId": "a367844e-133a-441b-dfe2-5fe7fb75864f"
      },
      "outputs": [
        {
          "output_type": "execute_result",
          "data": {
            "text/plain": [
              "['data science', 'machine learning', 'python', 'big data', 'html']"
            ]
          },
          "metadata": {},
          "execution_count": 13
        }
      ],
      "source": [
        "# define a first list\n",
        "course = ['data science', 'machine learning', 'python', 'html', 'big data', 'html' ]\n",
        "\n",
        "course.remove('html')\n",
        "\n",
        "course"
      ]
    },
    {
      "cell_type": "markdown",
      "metadata": {
        "id": "Z8sSmQXG6tl3"
      },
      "source": [
        "**list.pop()**<br>\n",
        "Removes and returns the last item of a list"
      ]
    },
    {
      "cell_type": "code",
      "execution_count": 14,
      "metadata": {
        "colab": {
          "base_uri": "https://localhost:8080/",
          "height": 35
        },
        "id": "2V_Qjstx6tl3",
        "outputId": "cedfd08f-7d0d-4d1e-cd8a-5a5d27b2f03c"
      },
      "outputs": [
        {
          "output_type": "execute_result",
          "data": {
            "text/plain": [
              "'html'"
            ],
            "application/vnd.google.colaboratory.intrinsic+json": {
              "type": "string"
            }
          },
          "metadata": {},
          "execution_count": 14
        }
      ],
      "source": [
        "# define a first list\n",
        "course = ['data science', 'machine learning', 'python', 'html', 'big data', 'html' ]\n",
        "\n",
        "course.pop()"
      ]
    },
    {
      "cell_type": "markdown",
      "metadata": {
        "id": "8GK4fh3F6tl3"
      },
      "source": [
        "**list.reverse()**<br>\n",
        "The reverse() method reverses the sorting order of the elements"
      ]
    },
    {
      "cell_type": "code",
      "execution_count": 15,
      "metadata": {
        "colab": {
          "base_uri": "https://localhost:8080/"
        },
        "id": "9nTWlFNT6tl3",
        "outputId": "551872ba-4be8-4276-c969-5d67bbf75e89"
      },
      "outputs": [
        {
          "output_type": "execute_result",
          "data": {
            "text/plain": [
              "['html', 'big data', 'html', 'python', 'machine learning', 'data science']"
            ]
          },
          "metadata": {},
          "execution_count": 15
        }
      ],
      "source": [
        "# define a first list\n",
        "course = ['data science', 'machine learning', 'python', 'html', 'big data', 'html' ]\n",
        "\n",
        "course.reverse()\n",
        "\n",
        "course"
      ]
    },
    {
      "cell_type": "markdown",
      "metadata": {
        "id": "nDLMJ5GI6tl3"
      },
      "source": [
        "### Common List Operations"
      ]
    },
    {
      "cell_type": "markdown",
      "metadata": {
        "id": "EkFxHrX66tl7"
      },
      "source": [
        "**Concatenation(+)**<br>\n",
        "Concatenation uses the + Operator. It combines lists"
      ]
    },
    {
      "cell_type": "code",
      "execution_count": 16,
      "metadata": {
        "colab": {
          "base_uri": "https://localhost:8080/"
        },
        "id": "fR_LG83l6tl7",
        "outputId": "548a120b-4968-471e-a97e-7094c3b6911b"
      },
      "outputs": [
        {
          "output_type": "execute_result",
          "data": {
            "text/plain": [
              "['data science',\n",
              " 'machine learning',\n",
              " 'python',\n",
              " 'html',\n",
              " 'big data',\n",
              " 'artificial intelligence']"
            ]
          },
          "metadata": {},
          "execution_count": 16
        }
      ],
      "source": [
        "# define a first list\n",
        "course1 = ['data science', 'machine learning', 'python', 'html', 'big data' ]\n",
        "\n",
        "# define a second list\n",
        "course2 = ['artificial intelligence']\n",
        "\n",
        "# concatenate the list\n",
        "course1 + course2"
      ]
    },
    {
      "cell_type": "markdown",
      "metadata": {
        "id": "3iZRanm-6tl7"
      },
      "source": [
        "**Repetition(*)**<br>\n",
        "Uses the * Operator. Concatenates a list a repeated number of times"
      ]
    },
    {
      "cell_type": "code",
      "execution_count": 17,
      "metadata": {
        "colab": {
          "base_uri": "https://localhost:8080/"
        },
        "id": "Fg7CeS4A6tl8",
        "outputId": "a026899d-bee4-49e9-c12c-3598b4c91a4d"
      },
      "outputs": [
        {
          "output_type": "execute_result",
          "data": {
            "text/plain": [
              "['data science',\n",
              " 'machine learning',\n",
              " 'python',\n",
              " 'html',\n",
              " 'big data',\n",
              " 'data science',\n",
              " 'machine learning',\n",
              " 'python',\n",
              " 'html',\n",
              " 'big data']"
            ]
          },
          "metadata": {},
          "execution_count": 17
        }
      ],
      "source": [
        "# define a first list\n",
        "course1 = ['data science', 'machine learning', 'python', 'html', 'big data' ]\n",
        "\n",
        "course1*2"
      ]
    },
    {
      "cell_type": "markdown",
      "metadata": {
        "id": "oWXo-ZB66tl8"
      },
      "source": [
        "<a id=\"tuple\"> </a>\n",
        "## 2. Introduction to Tuple\n"
      ]
    },
    {
      "cell_type": "markdown",
      "metadata": {
        "id": "wRFtTRKg6tl8"
      },
      "source": [
        "### Creating Tuple\n",
        "Here, we are creating few tuples. We can have tuple of same type of data items as well as mixed type of data items"
      ]
    },
    {
      "cell_type": "code",
      "execution_count": 18,
      "metadata": {
        "colab": {
          "base_uri": "https://localhost:8080/"
        },
        "id": "7taKB4oC6tl8",
        "outputId": "796844ce-3485-4b24-e5da-69664ee59549"
      },
      "outputs": [
        {
          "output_type": "stream",
          "name": "stdout",
          "text": [
            "(123, 2.228, 'hello python')\n"
          ]
        }
      ],
      "source": [
        "# tuple of int, float, string\n",
        "my_tuple = (123, 2.228, \"hello python\")\n",
        "print(my_tuple)"
      ]
    },
    {
      "cell_type": "code",
      "execution_count": 19,
      "metadata": {
        "colab": {
          "base_uri": "https://localhost:8080/"
        },
        "id": "3M2Zw_G-6tl8",
        "outputId": "ef459aa9-6c92-466e-ba8f-665dbf63052c"
      },
      "outputs": [
        {
          "output_type": "stream",
          "name": "stdout",
          "text": [
            "('python', [12, 12, 31])\n"
          ]
        }
      ],
      "source": [
        "# tuple of string and list\n",
        "my_tuple = (\"python\", [12, 12, 31])\n",
        "print(my_tuple)"
      ]
    },
    {
      "cell_type": "markdown",
      "metadata": {
        "id": "HAW-ZiVp6tl8"
      },
      "source": [
        "### Access Tuple Elements\n",
        "We use indexes to access the elements of a tuple"
      ]
    },
    {
      "cell_type": "code",
      "execution_count": 20,
      "metadata": {
        "colab": {
          "base_uri": "https://localhost:8080/",
          "height": 35
        },
        "id": "MwI3-lXY6tl9",
        "outputId": "c4b374f3-f1d7-4dce-b0ea-47c433df5f76"
      },
      "outputs": [
        {
          "output_type": "execute_result",
          "data": {
            "text/plain": [
              "'yellow'"
            ],
            "application/vnd.google.colaboratory.intrinsic+json": {
              "type": "string"
            }
          },
          "metadata": {},
          "execution_count": 20
        }
      ],
      "source": [
        "# tuple of strings\n",
        "my_tuple = (\"mango\", \"yellow\", \"green\", \"blue\")\n",
        "\n",
        "# access the second element from the list\n",
        "my_tuple[1]"
      ]
    },
    {
      "cell_type": "markdown",
      "metadata": {
        "id": "oQbdk-R96tl9"
      },
      "source": [
        "**Negetive Indexing**<br>\n",
        "Negative indexing means beginning from the end, -1 refers to the last item, -2 refers to the second last item of the tuple"
      ]
    },
    {
      "cell_type": "code",
      "execution_count": 21,
      "metadata": {
        "colab": {
          "base_uri": "https://localhost:8080/",
          "height": 35
        },
        "id": "QOcvxdce6tl9",
        "outputId": "ce0b77bf-bad3-4bc3-d39e-c5105b557297"
      },
      "outputs": [
        {
          "output_type": "execute_result",
          "data": {
            "text/plain": [
              "'blue'"
            ],
            "application/vnd.google.colaboratory.intrinsic+json": {
              "type": "string"
            }
          },
          "metadata": {},
          "execution_count": 21
        }
      ],
      "source": [
        "# tuple of strings\n",
        "my_tuple = (\"mango\", \"yellow\", \"green\", \"blue\")\n",
        "\n",
        "# print last item of the tuple\n",
        "my_tuple[-1]"
      ]
    },
    {
      "cell_type": "markdown",
      "metadata": {
        "id": "-40_5Ygd6tl9"
      },
      "source": [
        "### Change Tuple Values\n",
        "We cannot change the elements of a tuple because elements of tuple are immutable. However we can change the elements of nested items that are mutable"
      ]
    },
    {
      "cell_type": "code",
      "execution_count": 22,
      "metadata": {
        "colab": {
          "base_uri": "https://localhost:8080/"
        },
        "id": "-nHN3V5u6tl9",
        "outputId": "51c837ca-5edb-4972-f630-f229ab98e0d4"
      },
      "outputs": [
        {
          "output_type": "stream",
          "name": "stdout",
          "text": [
            "(123, ['s', 'a', 'v'], 'World')\n",
            "(123, ['s', 'a', 99], 'World')\n"
          ]
        }
      ],
      "source": [
        "my_tuple = (123, ['s', 'a', 'v'], \"World\")\n",
        "print(my_tuple)\n",
        "\n",
        "# changing the element of the list\n",
        "# this is valid because list is mutable\n",
        "my_tuple[1][2] = 99\n",
        "print(my_tuple)"
      ]
    },
    {
      "cell_type": "code",
      "execution_count": null,
      "metadata": {
        "id": "99Jl9FJZ6tl-"
      },
      "outputs": [],
      "source": [
        "# define the tuple\n",
        "my_tuple = (\"mango\", \"yellow\", \"green\", \"blue\", 353, 363.2, 'w')\n",
        "\n",
        "# changing the element of tuple\n",
        "# This is not valid since tuple elements are immutable\n",
        "my_tuple[0] = 'orange'"
      ]
    },
    {
      "cell_type": "markdown",
      "metadata": {
        "id": "3l1gsEzb6tl-"
      },
      "source": [
        "### Delete Operation on Tuple\n",
        "We already discussed above that tuple elements are immutable which also means that we cannot delete the elements of a tuple. However deleting entire tuple is possible"
      ]
    },
    {
      "cell_type": "code",
      "execution_count": null,
      "metadata": {
        "id": "_rCHlz-m6tl-"
      },
      "outputs": [],
      "source": [
        "# define the tuple\n",
        "my_tuple = (\"mango\", \"yellow\", \"green\", \"blue\", 353, 363.2, 'w')\n",
        "\n",
        "del my_tuple[0]"
      ]
    },
    {
      "cell_type": "markdown",
      "metadata": {
        "id": "BGFVAg0u6tl-"
      },
      "source": [
        "### Tuple Methods"
      ]
    },
    {
      "cell_type": "markdown",
      "metadata": {
        "id": "DcT4Y_ND6tl_"
      },
      "source": [
        "Python has two built-in methods that you can use on tuples:<br>\n",
        "count()<br>\n",
        "index()<br>\n",
        "sorted()"
      ]
    },
    {
      "cell_type": "markdown",
      "metadata": {
        "id": "Sb5fY_JV6tl_"
      },
      "source": [
        "**count()**<br>\n",
        "Returns the number of times a specified value occurs in a tuple"
      ]
    },
    {
      "cell_type": "code",
      "execution_count": 25,
      "metadata": {
        "colab": {
          "base_uri": "https://localhost:8080/"
        },
        "id": "NR1lt3mj6tl_",
        "outputId": "49d439b2-059f-4e2c-d799-1975f13a9aa4"
      },
      "outputs": [
        {
          "output_type": "execute_result",
          "data": {
            "text/plain": [
              "4"
            ]
          },
          "metadata": {},
          "execution_count": 25
        }
      ],
      "source": [
        "my_tuple = ('a','p','p','l','e','e','d','e', 'd','e','a','c','w')\n",
        "my_tuple.count('e')"
      ]
    },
    {
      "cell_type": "markdown",
      "metadata": {
        "id": "7HRTEg0P6tl_"
      },
      "source": [
        "**index()**<br>\n",
        "Searches the tuple for a specified value and returns the position of where it was found"
      ]
    },
    {
      "cell_type": "code",
      "execution_count": 26,
      "metadata": {
        "colab": {
          "base_uri": "https://localhost:8080/"
        },
        "id": "43ueyCh66tl_",
        "outputId": "4ab7f6ad-f2d8-4cb1-8ef6-b381d7e87fef"
      },
      "outputs": [
        {
          "output_type": "execute_result",
          "data": {
            "text/plain": [
              "3"
            ]
          },
          "metadata": {},
          "execution_count": 26
        }
      ],
      "source": [
        "my_tuple = ('a','p','p','l','e','e','d','e', 'd','e','a','c','w')\n",
        "my_tuple.index('l')"
      ]
    },
    {
      "cell_type": "markdown",
      "metadata": {
        "id": "YCEb0hSS6tl_"
      },
      "source": [
        "**sorted()**<br>\n",
        "It sorts a tuple and always returns a list with the elements in a sorted manner"
      ]
    },
    {
      "cell_type": "code",
      "execution_count": 27,
      "metadata": {
        "colab": {
          "base_uri": "https://localhost:8080/"
        },
        "id": "ftiPXqP36tl_",
        "outputId": "9963e782-fa66-4652-cb8f-399b5990745e"
      },
      "outputs": [
        {
          "output_type": "execute_result",
          "data": {
            "text/plain": [
              "[2, 2, 3, 3, 4, 5, 6, 7, 8, 9, 9]"
            ]
          },
          "metadata": {},
          "execution_count": 27
        }
      ],
      "source": [
        "my_tuple = (2,3,5,6,4,7,8,9,9,2,3)\n",
        "sorted(my_tuple)"
      ]
    }
  ],
  "metadata": {
    "kernelspec": {
      "display_name": "Python 3",
      "language": "python",
      "name": "python3"
    },
    "language_info": {
      "codemirror_mode": {
        "name": "ipython",
        "version": 3
      },
      "file_extension": ".py",
      "mimetype": "text/x-python",
      "name": "python",
      "nbconvert_exporter": "python",
      "pygments_lexer": "ipython3",
      "version": "3.8.5"
    },
    "colab": {
      "provenance": [],
      "include_colab_link": true
    }
  },
  "nbformat": 4,
  "nbformat_minor": 0
}